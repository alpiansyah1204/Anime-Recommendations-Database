{
  "nbformat": 4,
  "nbformat_minor": 0,
  "metadata": {
    "colab": {
      "provenance": []
    },
    "kernelspec": {
      "name": "python3",
      "display_name": "Python 3"
    },
    "language_info": {
      "name": "python"
    },
    "accelerator": "GPU"
  },
  "cells": [
    {
      "cell_type": "markdown",
      "source": [
        "#Import Library"
      ],
      "metadata": {
        "id": "PXduTU9OxjtA"
      }
    },
    {
      "cell_type": "markdown",
      "source": [
        "melakukan import lib yang akan digunakan"
      ],
      "metadata": {
        "id": "tNbGzVTjxlsp"
      }
    },
    {
      "cell_type": "code",
      "execution_count": 108,
      "metadata": {
        "id": "0bAfC66etHsX"
      },
      "outputs": [],
      "source": [
        "from zipfile import ZipFile\n",
        "import numpy as np \n",
        "import pandas as pd\n",
        "import tensorflow as tf\n",
        "from tensorflow import keras\n",
        "from pathlib import Path\n",
        "from keras import layers\n",
        "import matplotlib.pyplot as plt\n",
        "from sklearn.feature_extraction.text import TfidfVectorizer"
      ]
    },
    {
      "cell_type": "markdown",
      "source": [
        "#Import kaggle "
      ],
      "metadata": {
        "id": "8TYENWMJxtls"
      }
    },
    {
      "cell_type": "markdown",
      "source": [
        "menginstall kaggle "
      ],
      "metadata": {
        "id": "F5bNi9_-xvOS"
      }
    },
    {
      "cell_type": "code",
      "source": [
        "pip install -q kaggle"
      ],
      "metadata": {
        "id": "5ZnyYdh6xr4L"
      },
      "execution_count": 109,
      "outputs": []
    },
    {
      "cell_type": "markdown",
      "source": [
        "data loading"
      ],
      "metadata": {
        "id": "02pI67dH-92F"
      }
    },
    {
      "cell_type": "code",
      "source": [
        "import os\n",
        "os.environ['KAGGLE_USERNAME'] = \"alpiansyahrizqi\"\n",
        "os.environ['KAGGLE_KEY'] = \"4ec2871806d4a125d51415bdc1e5a75a\""
      ],
      "metadata": {
        "id": "1r036xTl-py5"
      },
      "execution_count": 110,
      "outputs": []
    },
    {
      "cell_type": "markdown",
      "source": [
        "mengunduh dataset diabetes"
      ],
      "metadata": {
        "id": "0AAG5NpAx2qq"
      }
    },
    {
      "cell_type": "code",
      "source": [
        "!kaggle datasets download -d CooperUnion/anime-recommendations-database"
      ],
      "metadata": {
        "colab": {
          "base_uri": "https://localhost:8080/"
        },
        "id": "BhDRaYd5x9D3",
        "outputId": "45a55b9c-d551-46d5-f533-bfb9b701f182"
      },
      "execution_count": 111,
      "outputs": [
        {
          "output_type": "stream",
          "name": "stdout",
          "text": [
            "anime-recommendations-database.zip: Skipping, found more recently modified local copy (use --force to force download)\n"
          ]
        }
      ]
    },
    {
      "cell_type": "markdown",
      "source": [
        "mengekstrak file zip yang telah diunduh"
      ],
      "metadata": {
        "id": "WTB5KE9PyUoq"
      }
    },
    {
      "cell_type": "code",
      "source": [
        "!unzip -q anime-recommendations-database.zip -d ."
      ],
      "metadata": {
        "colab": {
          "base_uri": "https://localhost:8080/"
        },
        "id": "P5-AzWlOyEMJ",
        "outputId": "6ebd4642-6802-43ca-ec53-b39db4cb7b0a"
      },
      "execution_count": 112,
      "outputs": [
        {
          "output_type": "stream",
          "name": "stdout",
          "text": [
            "replace ./anime.csv? [y]es, [n]o, [A]ll, [N]one, [r]ename: y\n",
            "replace ./rating.csv? [y]es, [n]o, [A]ll, [N]one, [r]ename: y\n"
          ]
        }
      ]
    },
    {
      "cell_type": "markdown",
      "source": [
        "#Import dataset"
      ],
      "metadata": {
        "id": "HJuPuS_6yqdl"
      }
    },
    {
      "cell_type": "markdown",
      "source": [
        "Import dataset kedalam variable"
      ],
      "metadata": {
        "id": "W37fh29rytvx"
      }
    },
    {
      "cell_type": "code",
      "source": [
        "df_anime = pd.read_csv('/content/anime.csv')\n",
        "df_rating = pd.read_csv('/content/rating.csv')"
      ],
      "metadata": {
        "id": "ZdbqdebZyw3b"
      },
      "execution_count": 113,
      "outputs": []
    },
    {
      "cell_type": "markdown",
      "source": [
        "#Univariate Exploratory Data Analysis"
      ],
      "metadata": {
        "id": "DyCPCyEFzOWh"
      }
    },
    {
      "cell_type": "markdown",
      "source": [
        "melihat 5 data teratas pada dataset anime"
      ],
      "metadata": {
        "id": "5PPhUmFVzYmU"
      }
    },
    {
      "cell_type": "code",
      "source": [
        "df_anime.head()"
      ],
      "metadata": {
        "colab": {
          "base_uri": "https://localhost:8080/",
          "height": 206
        },
        "id": "-cj6uzxGzFyR",
        "outputId": "a63f0ee3-6b39-49bd-935a-41286c6bb9dc"
      },
      "execution_count": 114,
      "outputs": [
        {
          "output_type": "execute_result",
          "data": {
            "text/plain": [
              "   anime_id                              name  \\\n",
              "0     32281                    Kimi no Na wa.   \n",
              "1      5114  Fullmetal Alchemist: Brotherhood   \n",
              "2     28977                          Gintama°   \n",
              "3      9253                       Steins;Gate   \n",
              "4      9969                     Gintama&#039;   \n",
              "\n",
              "                                               genre   type episodes  rating  \\\n",
              "0               Drama, Romance, School, Supernatural  Movie        1    9.37   \n",
              "1  Action, Adventure, Drama, Fantasy, Magic, Mili...     TV       64    9.26   \n",
              "2  Action, Comedy, Historical, Parody, Samurai, S...     TV       51    9.25   \n",
              "3                                   Sci-Fi, Thriller     TV       24    9.17   \n",
              "4  Action, Comedy, Historical, Parody, Samurai, S...     TV       51    9.16   \n",
              "\n",
              "   members  \n",
              "0   200630  \n",
              "1   793665  \n",
              "2   114262  \n",
              "3   673572  \n",
              "4   151266  "
            ],
            "text/html": [
              "\n",
              "  <div id=\"df-471b69a7-c81d-4047-baf0-d85e8f52d201\">\n",
              "    <div class=\"colab-df-container\">\n",
              "      <div>\n",
              "<style scoped>\n",
              "    .dataframe tbody tr th:only-of-type {\n",
              "        vertical-align: middle;\n",
              "    }\n",
              "\n",
              "    .dataframe tbody tr th {\n",
              "        vertical-align: top;\n",
              "    }\n",
              "\n",
              "    .dataframe thead th {\n",
              "        text-align: right;\n",
              "    }\n",
              "</style>\n",
              "<table border=\"1\" class=\"dataframe\">\n",
              "  <thead>\n",
              "    <tr style=\"text-align: right;\">\n",
              "      <th></th>\n",
              "      <th>anime_id</th>\n",
              "      <th>name</th>\n",
              "      <th>genre</th>\n",
              "      <th>type</th>\n",
              "      <th>episodes</th>\n",
              "      <th>rating</th>\n",
              "      <th>members</th>\n",
              "    </tr>\n",
              "  </thead>\n",
              "  <tbody>\n",
              "    <tr>\n",
              "      <th>0</th>\n",
              "      <td>32281</td>\n",
              "      <td>Kimi no Na wa.</td>\n",
              "      <td>Drama, Romance, School, Supernatural</td>\n",
              "      <td>Movie</td>\n",
              "      <td>1</td>\n",
              "      <td>9.37</td>\n",
              "      <td>200630</td>\n",
              "    </tr>\n",
              "    <tr>\n",
              "      <th>1</th>\n",
              "      <td>5114</td>\n",
              "      <td>Fullmetal Alchemist: Brotherhood</td>\n",
              "      <td>Action, Adventure, Drama, Fantasy, Magic, Mili...</td>\n",
              "      <td>TV</td>\n",
              "      <td>64</td>\n",
              "      <td>9.26</td>\n",
              "      <td>793665</td>\n",
              "    </tr>\n",
              "    <tr>\n",
              "      <th>2</th>\n",
              "      <td>28977</td>\n",
              "      <td>Gintama°</td>\n",
              "      <td>Action, Comedy, Historical, Parody, Samurai, S...</td>\n",
              "      <td>TV</td>\n",
              "      <td>51</td>\n",
              "      <td>9.25</td>\n",
              "      <td>114262</td>\n",
              "    </tr>\n",
              "    <tr>\n",
              "      <th>3</th>\n",
              "      <td>9253</td>\n",
              "      <td>Steins;Gate</td>\n",
              "      <td>Sci-Fi, Thriller</td>\n",
              "      <td>TV</td>\n",
              "      <td>24</td>\n",
              "      <td>9.17</td>\n",
              "      <td>673572</td>\n",
              "    </tr>\n",
              "    <tr>\n",
              "      <th>4</th>\n",
              "      <td>9969</td>\n",
              "      <td>Gintama&amp;#039;</td>\n",
              "      <td>Action, Comedy, Historical, Parody, Samurai, S...</td>\n",
              "      <td>TV</td>\n",
              "      <td>51</td>\n",
              "      <td>9.16</td>\n",
              "      <td>151266</td>\n",
              "    </tr>\n",
              "  </tbody>\n",
              "</table>\n",
              "</div>\n",
              "      <button class=\"colab-df-convert\" onclick=\"convertToInteractive('df-471b69a7-c81d-4047-baf0-d85e8f52d201')\"\n",
              "              title=\"Convert this dataframe to an interactive table.\"\n",
              "              style=\"display:none;\">\n",
              "        \n",
              "  <svg xmlns=\"http://www.w3.org/2000/svg\" height=\"24px\"viewBox=\"0 0 24 24\"\n",
              "       width=\"24px\">\n",
              "    <path d=\"M0 0h24v24H0V0z\" fill=\"none\"/>\n",
              "    <path d=\"M18.56 5.44l.94 2.06.94-2.06 2.06-.94-2.06-.94-.94-2.06-.94 2.06-2.06.94zm-11 1L8.5 8.5l.94-2.06 2.06-.94-2.06-.94L8.5 2.5l-.94 2.06-2.06.94zm10 10l.94 2.06.94-2.06 2.06-.94-2.06-.94-.94-2.06-.94 2.06-2.06.94z\"/><path d=\"M17.41 7.96l-1.37-1.37c-.4-.4-.92-.59-1.43-.59-.52 0-1.04.2-1.43.59L10.3 9.45l-7.72 7.72c-.78.78-.78 2.05 0 2.83L4 21.41c.39.39.9.59 1.41.59.51 0 1.02-.2 1.41-.59l7.78-7.78 2.81-2.81c.8-.78.8-2.07 0-2.86zM5.41 20L4 18.59l7.72-7.72 1.47 1.35L5.41 20z\"/>\n",
              "  </svg>\n",
              "      </button>\n",
              "      \n",
              "  <style>\n",
              "    .colab-df-container {\n",
              "      display:flex;\n",
              "      flex-wrap:wrap;\n",
              "      gap: 12px;\n",
              "    }\n",
              "\n",
              "    .colab-df-convert {\n",
              "      background-color: #E8F0FE;\n",
              "      border: none;\n",
              "      border-radius: 50%;\n",
              "      cursor: pointer;\n",
              "      display: none;\n",
              "      fill: #1967D2;\n",
              "      height: 32px;\n",
              "      padding: 0 0 0 0;\n",
              "      width: 32px;\n",
              "    }\n",
              "\n",
              "    .colab-df-convert:hover {\n",
              "      background-color: #E2EBFA;\n",
              "      box-shadow: 0px 1px 2px rgba(60, 64, 67, 0.3), 0px 1px 3px 1px rgba(60, 64, 67, 0.15);\n",
              "      fill: #174EA6;\n",
              "    }\n",
              "\n",
              "    [theme=dark] .colab-df-convert {\n",
              "      background-color: #3B4455;\n",
              "      fill: #D2E3FC;\n",
              "    }\n",
              "\n",
              "    [theme=dark] .colab-df-convert:hover {\n",
              "      background-color: #434B5C;\n",
              "      box-shadow: 0px 1px 3px 1px rgba(0, 0, 0, 0.15);\n",
              "      filter: drop-shadow(0px 1px 2px rgba(0, 0, 0, 0.3));\n",
              "      fill: #FFFFFF;\n",
              "    }\n",
              "  </style>\n",
              "\n",
              "      <script>\n",
              "        const buttonEl =\n",
              "          document.querySelector('#df-471b69a7-c81d-4047-baf0-d85e8f52d201 button.colab-df-convert');\n",
              "        buttonEl.style.display =\n",
              "          google.colab.kernel.accessAllowed ? 'block' : 'none';\n",
              "\n",
              "        async function convertToInteractive(key) {\n",
              "          const element = document.querySelector('#df-471b69a7-c81d-4047-baf0-d85e8f52d201');\n",
              "          const dataTable =\n",
              "            await google.colab.kernel.invokeFunction('convertToInteractive',\n",
              "                                                     [key], {});\n",
              "          if (!dataTable) return;\n",
              "\n",
              "          const docLinkHtml = 'Like what you see? Visit the ' +\n",
              "            '<a target=\"_blank\" href=https://colab.research.google.com/notebooks/data_table.ipynb>data table notebook</a>'\n",
              "            + ' to learn more about interactive tables.';\n",
              "          element.innerHTML = '';\n",
              "          dataTable['output_type'] = 'display_data';\n",
              "          await google.colab.output.renderOutput(dataTable, element);\n",
              "          const docLink = document.createElement('div');\n",
              "          docLink.innerHTML = docLinkHtml;\n",
              "          element.appendChild(docLink);\n",
              "        }\n",
              "      </script>\n",
              "    </div>\n",
              "  </div>\n",
              "  "
            ]
          },
          "metadata": {},
          "execution_count": 114
        }
      ]
    },
    {
      "cell_type": "markdown",
      "source": [
        "melihat total data anime"
      ],
      "metadata": {
        "id": "k-WvBrQlz3kQ"
      }
    },
    {
      "cell_type": "code",
      "source": [
        "print('Jumlah data anime: ', len(df_anime['anime_id'].unique()))"
      ],
      "metadata": {
        "colab": {
          "base_uri": "https://localhost:8080/"
        },
        "id": "HIly50SSzTtq",
        "outputId": "380dd36b-806e-49b3-efd8-70497968f40a"
      },
      "execution_count": 115,
      "outputs": [
        {
          "output_type": "stream",
          "name": "stdout",
          "text": [
            "Jumlah data anime:  12294\n"
          ]
        }
      ]
    },
    {
      "cell_type": "markdown",
      "source": [
        "melihat jumlah genre anime pada dataset"
      ],
      "metadata": {
        "id": "l3OxjCMu3BWn"
      }
    },
    {
      "cell_type": "code",
      "source": [
        "genres = df_anime['genre'].str.split(',').explode()\n",
        "\n",
        "print('Jumlah genre anime: ', len(genres.unique()))\n",
        "genres.value_counts(ascending=True).plot(kind='barh', figsize=(20, 20))"
      ],
      "metadata": {
        "colab": {
          "base_uri": "https://localhost:8080/",
          "height": 1000
        },
        "id": "4XCOlvXPz8jR",
        "outputId": "cf9f1df1-9c40-400c-8f1a-c7d7d33c2d65"
      },
      "execution_count": 116,
      "outputs": [
        {
          "output_type": "stream",
          "name": "stdout",
          "text": [
            "Jumlah genre anime:  83\n"
          ]
        },
        {
          "output_type": "execute_result",
          "data": {
            "text/plain": [
              "<matplotlib.axes._subplots.AxesSubplot at 0x7fd2902eee90>"
            ]
          },
          "metadata": {},
          "execution_count": 116
        },
        {
          "output_type": "display_data",
          "data": {
            "text/plain": [
              "<Figure size 1440x1440 with 1 Axes>"
            ],
            "image/png": "[encoded data removed]"
          },
          "metadata": {
            "needs_background": "light"
          }
        }
      ]
    },
    {
      "cell_type": "markdown",
      "source": [
        "melihat 5 data teratas pada dataset rating"
      ],
      "metadata": {
        "id": "NlYdsWN6zh0i"
      }
    },
    {
      "cell_type": "code",
      "source": [
        "df_rating.head()"
      ],
      "metadata": {
        "colab": {
          "base_uri": "https://localhost:8080/",
          "height": 206
        },
        "id": "--hrbYfqzIsC",
        "outputId": "c157b44f-b18e-4791-e4be-f61ecb96fd05"
      },
      "execution_count": 117,
      "outputs": [
        {
          "output_type": "execute_result",
          "data": {
            "text/plain": [
              "   user_id  anime_id  rating\n",
              "0        1        20      -1\n",
              "1        1        24      -1\n",
              "2        1        79      -1\n",
              "3        1       226      -1\n",
              "4        1       241      -1"
            ],
            "text/html": [
              "\n",
              "  <div id=\"df-4af68968-544e-440a-a9a4-a8b5707f2c96\">\n",
              "    <div class=\"colab-df-container\">\n",
              "      <div>\n",
              "<style scoped>\n",
              "    .dataframe tbody tr th:only-of-type {\n",
              "        vertical-align: middle;\n",
              "    }\n",
              "\n",
              "    .dataframe tbody tr th {\n",
              "        vertical-align: top;\n",
              "    }\n",
              "\n",
              "    .dataframe thead th {\n",
              "        text-align: right;\n",
              "    }\n",
              "</style>\n",
              "<table border=\"1\" class=\"dataframe\">\n",
              "  <thead>\n",
              "    <tr style=\"text-align: right;\">\n",
              "      <th></th>\n",
              "      <th>user_id</th>\n",
              "      <th>anime_id</th>\n",
              "      <th>rating</th>\n",
              "    </tr>\n",
              "  </thead>\n",
              "  <tbody>\n",
              "    <tr>\n",
              "      <th>0</th>\n",
              "      <td>1</td>\n",
              "      <td>20</td>\n",
              "      <td>-1</td>\n",
              "    </tr>\n",
              "    <tr>\n",
              "      <th>1</th>\n",
              "      <td>1</td>\n",
              "      <td>24</td>\n",
              "      <td>-1</td>\n",
              "    </tr>\n",
              "    <tr>\n",
              "      <th>2</th>\n",
              "      <td>1</td>\n",
              "      <td>79</td>\n",
              "      <td>-1</td>\n",
              "    </tr>\n",
              "    <tr>\n",
              "      <th>3</th>\n",
              "      <td>1</td>\n",
              "      <td>226</td>\n",
              "      <td>-1</td>\n",
              "    </tr>\n",
              "    <tr>\n",
              "      <th>4</th>\n",
              "      <td>1</td>\n",
              "      <td>241</td>\n",
              "      <td>-1</td>\n",
              "    </tr>\n",
              "  </tbody>\n",
              "</table>\n",
              "</div>\n",
              "      <button class=\"colab-df-convert\" onclick=\"convertToInteractive('df-4af68968-544e-440a-a9a4-a8b5707f2c96')\"\n",
              "              title=\"Convert this dataframe to an interactive table.\"\n",
              "              style=\"display:none;\">\n",
              "        \n",
              "  <svg xmlns=\"http://www.w3.org/2000/svg\" height=\"24px\"viewBox=\"0 0 24 24\"\n",
              "       width=\"24px\">\n",
              "    <path d=\"M0 0h24v24H0V0z\" fill=\"none\"/>\n",
              "    <path d=\"M18.56 5.44l.94 2.06.94-2.06 2.06-.94-2.06-.94-.94-2.06-.94 2.06-2.06.94zm-11 1L8.5 8.5l.94-2.06 2.06-.94-2.06-.94L8.5 2.5l-.94 2.06-2.06.94zm10 10l.94 2.06.94-2.06 2.06-.94-2.06-.94-.94-2.06-.94 2.06-2.06.94z\"/><path d=\"M17.41 7.96l-1.37-1.37c-.4-.4-.92-.59-1.43-.59-.52 0-1.04.2-1.43.59L10.3 9.45l-7.72 7.72c-.78.78-.78 2.05 0 2.83L4 21.41c.39.39.9.59 1.41.59.51 0 1.02-.2 1.41-.59l7.78-7.78 2.81-2.81c.8-.78.8-2.07 0-2.86zM5.41 20L4 18.59l7.72-7.72 1.47 1.35L5.41 20z\"/>\n",
              "  </svg>\n",
              "      </button>\n",
              "      \n",
              "  <style>\n",
              "    .colab-df-container {\n",
              "      display:flex;\n",
              "      flex-wrap:wrap;\n",
              "      gap: 12px;\n",
              "    }\n",
              "\n",
              "    .colab-df-convert {\n",
              "      background-color: #E8F0FE;\n",
              "      border: none;\n",
              "      border-radius: 50%;\n",
              "      cursor: pointer;\n",
              "      display: none;\n",
              "      fill: #1967D2;\n",
              "      height: 32px;\n",
              "      padding: 0 0 0 0;\n",
              "      width: 32px;\n",
              "    }\n",
              "\n",
              "    .colab-df-convert:hover {\n",
              "      background-color: #E2EBFA;\n",
              "      box-shadow: 0px 1px 2px rgba(60, 64, 67, 0.3), 0px 1px 3px 1px rgba(60, 64, 67, 0.15);\n",
              "      fill: #174EA6;\n",
              "    }\n",
              "\n",
              "    [theme=dark] .colab-df-convert {\n",
              "      background-color: #3B4455;\n",
              "      fill: #D2E3FC;\n",
              "    }\n",
              "\n",
              "    [theme=dark] .colab-df-convert:hover {\n",
              "      background-color: #434B5C;\n",
              "      box-shadow: 0px 1px 3px 1px rgba(0, 0, 0, 0.15);\n",
              "      filter: drop-shadow(0px 1px 2px rgba(0, 0, 0, 0.3));\n",
              "      fill: #FFFFFF;\n",
              "    }\n",
              "  </style>\n",
              "\n",
              "      <script>\n",
              "        const buttonEl =\n",
              "          document.querySelector('#df-4af68968-544e-440a-a9a4-a8b5707f2c96 button.colab-df-convert');\n",
              "        buttonEl.style.display =\n",
              "          google.colab.kernel.accessAllowed ? 'block' : 'none';\n",
              "\n",
              "        async function convertToInteractive(key) {\n",
              "          const element = document.querySelector('#df-4af68968-544e-440a-a9a4-a8b5707f2c96');\n",
              "          const dataTable =\n",
              "            await google.colab.kernel.invokeFunction('convertToInteractive',\n",
              "                                                     [key], {});\n",
              "          if (!dataTable) return;\n",
              "\n",
              "          const docLinkHtml = 'Like what you see? Visit the ' +\n",
              "            '<a target=\"_blank\" href=https://colab.research.google.com/notebooks/data_table.ipynb>data table notebook</a>'\n",
              "            + ' to learn more about interactive tables.';\n",
              "          element.innerHTML = '';\n",
              "          dataTable['output_type'] = 'display_data';\n",
              "          await google.colab.output.renderOutput(dataTable, element);\n",
              "          const docLink = document.createElement('div');\n",
              "          docLink.innerHTML = docLinkHtml;\n",
              "          element.appendChild(docLink);\n",
              "        }\n",
              "      </script>\n",
              "    </div>\n",
              "  </div>\n",
              "  "
            ]
          },
          "metadata": {},
          "execution_count": 117
        }
      ]
    },
    {
      "cell_type": "markdown",
      "source": [
        "melihat lagi dataset rating "
      ],
      "metadata": {
        "id": "fea1rLQH37Uh"
      }
    },
    {
      "cell_type": "code",
      "source": [
        "print('Jumlah user yang memberikan penilaian: ', len(df_rating['user_id'].unique()))\n",
        "print('Jumlah anime yang pernah dinilai user: ', len(df_rating['anime_id'].unique()))\n",
        "print('Jumlah data penilaian anime: ', len(df_rating))"
      ],
      "metadata": {
        "colab": {
          "base_uri": "https://localhost:8080/"
        },
        "id": "0hsXZhni0ec3",
        "outputId": "13e92279-5dd9-414c-dc52-fad73ba88148"
      },
      "execution_count": 118,
      "outputs": [
        {
          "output_type": "stream",
          "name": "stdout",
          "text": [
            "Jumlah user yang memberikan penilaian:  73515\n",
            "Jumlah anime yang pernah dinilai user:  11200\n",
            "Jumlah data penilaian anime:  7813737\n"
          ]
        }
      ]
    },
    {
      "cell_type": "markdown",
      "source": [
        "Hanya mengambil 5000 jumlah data"
      ],
      "metadata": {
        "id": "hpz5-MMzoFW7"
      }
    },
    {
      "cell_type": "code",
      "source": [
        "df_rating = df_rating.drop(range(20000, 7813737))\n",
        "df_rating"
      ],
      "metadata": {
        "colab": {
          "base_uri": "https://localhost:8080/",
          "height": 424
        },
        "id": "xhWSpFWvoEnP",
        "outputId": "27befd05-ea11-46e4-efe5-ca09d2ff802f"
      },
      "execution_count": 119,
      "outputs": [
        {
          "output_type": "execute_result",
          "data": {
            "text/plain": [
              "       user_id  anime_id  rating\n",
              "0            1        20      -1\n",
              "1            1        24      -1\n",
              "2            1        79      -1\n",
              "3            1       226      -1\n",
              "4            1       241      -1\n",
              "...        ...       ...     ...\n",
              "19995      247      3044       7\n",
              "19996      247      3437       8\n",
              "19997      247      3481       7\n",
              "19998      247      3572       7\n",
              "19999      247      3631       7\n",
              "\n",
              "[20000 rows x 3 columns]"
            ],
            "text/html": [
              "\n",
              "  <div id=\"df-8b949d8b-8939-4223-a850-2b64ebd75c72\">\n",
              "    <div class=\"colab-df-container\">\n",
              "      <div>\n",
              "<style scoped>\n",
              "    .dataframe tbody tr th:only-of-type {\n",
              "        vertical-align: middle;\n",
              "    }\n",
              "\n",
              "    .dataframe tbody tr th {\n",
              "        vertical-align: top;\n",
              "    }\n",
              "\n",
              "    .dataframe thead th {\n",
              "        text-align: right;\n",
              "    }\n",
              "</style>\n",
              "<table border=\"1\" class=\"dataframe\">\n",
              "  <thead>\n",
              "    <tr style=\"text-align: right;\">\n",
              "      <th></th>\n",
              "      <th>user_id</th>\n",
              "      <th>anime_id</th>\n",
              "      <th>rating</th>\n",
              "    </tr>\n",
              "  </thead>\n",
              "  <tbody>\n",
              "    <tr>\n",
              "      <th>0</th>\n",
              "      <td>1</td>\n",
              "      <td>20</td>\n",
              "      <td>-1</td>\n",
              "    </tr>\n",
              "    <tr>\n",
              "      <th>1</th>\n",
              "      <td>1</td>\n",
              "      <td>24</td>\n",
              "      <td>-1</td>\n",
              "    </tr>\n",
              "    <tr>\n",
              "      <th>2</th>\n",
              "      <td>1</td>\n",
              "      <td>79</td>\n",
              "      <td>-1</td>\n",
              "    </tr>\n",
              "    <tr>\n",
              "      <th>3</th>\n",
              "      <td>1</td>\n",
              "      <td>226</td>\n",
              "      <td>-1</td>\n",
              "    </tr>\n",
              "    <tr>\n",
              "      <th>4</th>\n",
              "      <td>1</td>\n",
              "      <td>241</td>\n",
              "      <td>-1</td>\n",
              "    </tr>\n",
              "    <tr>\n",
              "      <th>...</th>\n",
              "      <td>...</td>\n",
              "      <td>...</td>\n",
              "      <td>...</td>\n",
              "    </tr>\n",
              "    <tr>\n",
              "      <th>19995</th>\n",
              "      <td>247</td>\n",
              "      <td>3044</td>\n",
              "      <td>7</td>\n",
              "    </tr>\n",
              "    <tr>\n",
              "      <th>19996</th>\n",
              "      <td>247</td>\n",
              "      <td>3437</td>\n",
              "      <td>8</td>\n",
              "    </tr>\n",
              "    <tr>\n",
              "      <th>19997</th>\n",
              "      <td>247</td>\n",
              "      <td>3481</td>\n",
              "      <td>7</td>\n",
              "    </tr>\n",
              "    <tr>\n",
              "      <th>19998</th>\n",
              "      <td>247</td>\n",
              "      <td>3572</td>\n",
              "      <td>7</td>\n",
              "    </tr>\n",
              "    <tr>\n",
              "      <th>19999</th>\n",
              "      <td>247</td>\n",
              "      <td>3631</td>\n",
              "      <td>7</td>\n",
              "    </tr>\n",
              "  </tbody>\n",
              "</table>\n",
              "<p>20000 rows × 3 columns</p>\n",
              "</div>\n",
              "      <button class=\"colab-df-convert\" onclick=\"convertToInteractive('df-8b949d8b-8939-4223-a850-2b64ebd75c72')\"\n",
              "              title=\"Convert this dataframe to an interactive table.\"\n",
              "              style=\"display:none;\">\n",
              "        \n",
              "  <svg xmlns=\"http://www.w3.org/2000/svg\" height=\"24px\"viewBox=\"0 0 24 24\"\n",
              "       width=\"24px\">\n",
              "    <path d=\"M0 0h24v24H0V0z\" fill=\"none\"/>\n",
              "    <path d=\"M18.56 5.44l.94 2.06.94-2.06 2.06-.94-2.06-.94-.94-2.06-.94 2.06-2.06.94zm-11 1L8.5 8.5l.94-2.06 2.06-.94-2.06-.94L8.5 2.5l-.94 2.06-2.06.94zm10 10l.94 2.06.94-2.06 2.06-.94-2.06-.94-.94-2.06-.94 2.06-2.06.94z\"/><path d=\"M17.41 7.96l-1.37-1.37c-.4-.4-.92-.59-1.43-.59-.52 0-1.04.2-1.43.59L10.3 9.45l-7.72 7.72c-.78.78-.78 2.05 0 2.83L4 21.41c.39.39.9.59 1.41.59.51 0 1.02-.2 1.41-.59l7.78-7.78 2.81-2.81c.8-.78.8-2.07 0-2.86zM5.41 20L4 18.59l7.72-7.72 1.47 1.35L5.41 20z\"/>\n",
              "  </svg>\n",
              "      </button>\n",
              "      \n",
              "  <style>\n",
              "    .colab-df-container {\n",
              "      display:flex;\n",
              "      flex-wrap:wrap;\n",
              "      gap: 12px;\n",
              "    }\n",
              "\n",
              "    .colab-df-convert {\n",
              "      background-color: #E8F0FE;\n",
              "      border: none;\n",
              "      border-radius: 50%;\n",
              "      cursor: pointer;\n",
              "      display: none;\n",
              "      fill: #1967D2;\n",
              "      height: 32px;\n",
              "      padding: 0 0 0 0;\n",
              "      width: 32px;\n",
              "    }\n",
              "\n",
              "    .colab-df-convert:hover {\n",
              "      background-color: #E2EBFA;\n",
              "      box-shadow: 0px 1px 2px rgba(60, 64, 67, 0.3), 0px 1px 3px 1px rgba(60, 64, 67, 0.15);\n",
              "      fill: #174EA6;\n",
              "    }\n",
              "\n",
              "    [theme=dark] .colab-df-convert {\n",
              "      background-color: #3B4455;\n",
              "      fill: #D2E3FC;\n",
              "    }\n",
              "\n",
              "    [theme=dark] .colab-df-convert:hover {\n",
              "      background-color: #434B5C;\n",
              "      box-shadow: 0px 1px 3px 1px rgba(0, 0, 0, 0.15);\n",
              "      filter: drop-shadow(0px 1px 2px rgba(0, 0, 0, 0.3));\n",
              "      fill: #FFFFFF;\n",
              "    }\n",
              "  </style>\n",
              "\n",
              "      <script>\n",
              "        const buttonEl =\n",
              "          document.querySelector('#df-8b949d8b-8939-4223-a850-2b64ebd75c72 button.colab-df-convert');\n",
              "        buttonEl.style.display =\n",
              "          google.colab.kernel.accessAllowed ? 'block' : 'none';\n",
              "\n",
              "        async function convertToInteractive(key) {\n",
              "          const element = document.querySelector('#df-8b949d8b-8939-4223-a850-2b64ebd75c72');\n",
              "          const dataTable =\n",
              "            await google.colab.kernel.invokeFunction('convertToInteractive',\n",
              "                                                     [key], {});\n",
              "          if (!dataTable) return;\n",
              "\n",
              "          const docLinkHtml = 'Like what you see? Visit the ' +\n",
              "            '<a target=\"_blank\" href=https://colab.research.google.com/notebooks/data_table.ipynb>data table notebook</a>'\n",
              "            + ' to learn more about interactive tables.';\n",
              "          element.innerHTML = '';\n",
              "          dataTable['output_type'] = 'display_data';\n",
              "          await google.colab.output.renderOutput(dataTable, element);\n",
              "          const docLink = document.createElement('div');\n",
              "          docLink.innerHTML = docLinkHtml;\n",
              "          element.appendChild(docLink);\n",
              "        }\n",
              "      </script>\n",
              "    </div>\n",
              "  </div>\n",
              "  "
            ]
          },
          "metadata": {},
          "execution_count": 119
        }
      ]
    },
    {
      "cell_type": "markdown",
      "source": [
        "melihat deskripsi pada dataset rating "
      ],
      "metadata": {
        "id": "V0cU9DPq4YRi"
      }
    },
    {
      "cell_type": "code",
      "source": [
        "df_rating.describe().T"
      ],
      "metadata": {
        "colab": {
          "base_uri": "https://localhost:8080/",
          "height": 143
        },
        "id": "Ii-xgi154UYf",
        "outputId": "b7c64f36-27ee-49c8-b2c7-0f267ba7f986"
      },
      "execution_count": 120,
      "outputs": [
        {
          "output_type": "execute_result",
          "data": {
            "text/plain": [
              "            count         mean          std  min     25%     50%      75%  \\\n",
              "user_id   20000.0    122.93475    76.474535  1.0    51.0   123.0    196.0   \n",
              "anime_id  20000.0  10462.25390  8995.668737  1.0  2034.0  9074.0  16512.0   \n",
              "rating    20000.0      6.10085     3.852638 -1.0     5.0     8.0      9.0   \n",
              "\n",
              "              max  \n",
              "user_id     247.0  \n",
              "anime_id  34240.0  \n",
              "rating       10.0  "
            ],
            "text/html": [
              "\n",
              "  <div id=\"df-6efe7175-bfa3-40a6-86c7-e9008209dd1c\">\n",
              "    <div class=\"colab-df-container\">\n",
              "      <div>\n",
              "<style scoped>\n",
              "    .dataframe tbody tr th:only-of-type {\n",
              "        vertical-align: middle;\n",
              "    }\n",
              "\n",
              "    .dataframe tbody tr th {\n",
              "        vertical-align: top;\n",
              "    }\n",
              "\n",
              "    .dataframe thead th {\n",
              "        text-align: right;\n",
              "    }\n",
              "</style>\n",
              "<table border=\"1\" class=\"dataframe\">\n",
              "  <thead>\n",
              "    <tr style=\"text-align: right;\">\n",
              "      <th></th>\n",
              "      <th>count</th>\n",
              "      <th>mean</th>\n",
              "      <th>std</th>\n",
              "      <th>min</th>\n",
              "      <th>25%</th>\n",
              "      <th>50%</th>\n",
              "      <th>75%</th>\n",
              "      <th>max</th>\n",
              "    </tr>\n",
              "  </thead>\n",
              "  <tbody>\n",
              "    <tr>\n",
              "      <th>user_id</th>\n",
              "      <td>20000.0</td>\n",
              "      <td>122.93475</td>\n",
              "      <td>76.474535</td>\n",
              "      <td>1.0</td>\n",
              "      <td>51.0</td>\n",
              "      <td>123.0</td>\n",
              "      <td>196.0</td>\n",
              "      <td>247.0</td>\n",
              "    </tr>\n",
              "    <tr>\n",
              "      <th>anime_id</th>\n",
              "      <td>20000.0</td>\n",
              "      <td>10462.25390</td>\n",
              "      <td>8995.668737</td>\n",
              "      <td>1.0</td>\n",
              "      <td>2034.0</td>\n",
              "      <td>9074.0</td>\n",
              "      <td>16512.0</td>\n",
              "      <td>34240.0</td>\n",
              "    </tr>\n",
              "    <tr>\n",
              "      <th>rating</th>\n",
              "      <td>20000.0</td>\n",
              "      <td>6.10085</td>\n",
              "      <td>3.852638</td>\n",
              "      <td>-1.0</td>\n",
              "      <td>5.0</td>\n",
              "      <td>8.0</td>\n",
              "      <td>9.0</td>\n",
              "      <td>10.0</td>\n",
              "    </tr>\n",
              "  </tbody>\n",
              "</table>\n",
              "</div>\n",
              "      <button class=\"colab-df-convert\" onclick=\"convertToInteractive('df-6efe7175-bfa3-40a6-86c7-e9008209dd1c')\"\n",
              "              title=\"Convert this dataframe to an interactive table.\"\n",
              "              style=\"display:none;\">\n",
              "        \n",
              "  <svg xmlns=\"http://www.w3.org/2000/svg\" height=\"24px\"viewBox=\"0 0 24 24\"\n",
              "       width=\"24px\">\n",
              "    <path d=\"M0 0h24v24H0V0z\" fill=\"none\"/>\n",
              "    <path d=\"M18.56 5.44l.94 2.06.94-2.06 2.06-.94-2.06-.94-.94-2.06-.94 2.06-2.06.94zm-11 1L8.5 8.5l.94-2.06 2.06-.94-2.06-.94L8.5 2.5l-.94 2.06-2.06.94zm10 10l.94 2.06.94-2.06 2.06-.94-2.06-.94-.94-2.06-.94 2.06-2.06.94z\"/><path d=\"M17.41 7.96l-1.37-1.37c-.4-.4-.92-.59-1.43-.59-.52 0-1.04.2-1.43.59L10.3 9.45l-7.72 7.72c-.78.78-.78 2.05 0 2.83L4 21.41c.39.39.9.59 1.41.59.51 0 1.02-.2 1.41-.59l7.78-7.78 2.81-2.81c.8-.78.8-2.07 0-2.86zM5.41 20L4 18.59l7.72-7.72 1.47 1.35L5.41 20z\"/>\n",
              "  </svg>\n",
              "      </button>\n",
              "      \n",
              "  <style>\n",
              "    .colab-df-container {\n",
              "      display:flex;\n",
              "      flex-wrap:wrap;\n",
              "      gap: 12px;\n",
              "    }\n",
              "\n",
              "    .colab-df-convert {\n",
              "      background-color: #E8F0FE;\n",
              "      border: none;\n",
              "      border-radius: 50%;\n",
              "      cursor: pointer;\n",
              "      display: none;\n",
              "      fill: #1967D2;\n",
              "      height: 32px;\n",
              "      padding: 0 0 0 0;\n",
              "      width: 32px;\n",
              "    }\n",
              "\n",
              "    .colab-df-convert:hover {\n",
              "      background-color: #E2EBFA;\n",
              "      box-shadow: 0px 1px 2px rgba(60, 64, 67, 0.3), 0px 1px 3px 1px rgba(60, 64, 67, 0.15);\n",
              "      fill: #174EA6;\n",
              "    }\n",
              "\n",
              "    [theme=dark] .colab-df-convert {\n",
              "      background-color: #3B4455;\n",
              "      fill: #D2E3FC;\n",
              "    }\n",
              "\n",
              "    [theme=dark] .colab-df-convert:hover {\n",
              "      background-color: #434B5C;\n",
              "      box-shadow: 0px 1px 3px 1px rgba(0, 0, 0, 0.15);\n",
              "      filter: drop-shadow(0px 1px 2px rgba(0, 0, 0, 0.3));\n",
              "      fill: #FFFFFF;\n",
              "    }\n",
              "  </style>\n",
              "\n",
              "      <script>\n",
              "        const buttonEl =\n",
              "          document.querySelector('#df-6efe7175-bfa3-40a6-86c7-e9008209dd1c button.colab-df-convert');\n",
              "        buttonEl.style.display =\n",
              "          google.colab.kernel.accessAllowed ? 'block' : 'none';\n",
              "\n",
              "        async function convertToInteractive(key) {\n",
              "          const element = document.querySelector('#df-6efe7175-bfa3-40a6-86c7-e9008209dd1c');\n",
              "          const dataTable =\n",
              "            await google.colab.kernel.invokeFunction('convertToInteractive',\n",
              "                                                     [key], {});\n",
              "          if (!dataTable) return;\n",
              "\n",
              "          const docLinkHtml = 'Like what you see? Visit the ' +\n",
              "            '<a target=\"_blank\" href=https://colab.research.google.com/notebooks/data_table.ipynb>data table notebook</a>'\n",
              "            + ' to learn more about interactive tables.';\n",
              "          element.innerHTML = '';\n",
              "          dataTable['output_type'] = 'display_data';\n",
              "          await google.colab.output.renderOutput(dataTable, element);\n",
              "          const docLink = document.createElement('div');\n",
              "          docLink.innerHTML = docLinkHtml;\n",
              "          element.appendChild(docLink);\n",
              "        }\n",
              "      </script>\n",
              "    </div>\n",
              "  </div>\n",
              "  "
            ]
          },
          "metadata": {},
          "execution_count": 120
        }
      ]
    },
    {
      "cell_type": "markdown",
      "source": [
        "mengubah nilai rating -1 ke dalam NaN"
      ],
      "metadata": {
        "id": "lNQpJkSn8V9b"
      }
    },
    {
      "cell_type": "code",
      "source": [
        "df_rating[\"rating\"].replace({-1: np.nan}, inplace=True)\n",
        "df_rating"
      ],
      "metadata": {
        "colab": {
          "base_uri": "https://localhost:8080/",
          "height": 424
        },
        "id": "pK-PskG-8PLw",
        "outputId": "be766b83-e001-4d61-b775-64626ae956fc"
      },
      "execution_count": 121,
      "outputs": [
        {
          "output_type": "execute_result",
          "data": {
            "text/plain": [
              "       user_id  anime_id  rating\n",
              "0            1        20     NaN\n",
              "1            1        24     NaN\n",
              "2            1        79     NaN\n",
              "3            1       226     NaN\n",
              "4            1       241     NaN\n",
              "...        ...       ...     ...\n",
              "19995      247      3044     7.0\n",
              "19996      247      3437     8.0\n",
              "19997      247      3481     7.0\n",
              "19998      247      3572     7.0\n",
              "19999      247      3631     7.0\n",
              "\n",
              "[20000 rows x 3 columns]"
            ],
            "text/html": [
              "\n",
              "  <div id=\"df-6fcf9f95-8302-4c14-bea9-f87da74d4e6c\">\n",
              "    <div class=\"colab-df-container\">\n",
              "      <div>\n",
              "<style scoped>\n",
              "    .dataframe tbody tr th:only-of-type {\n",
              "        vertical-align: middle;\n",
              "    }\n",
              "\n",
              "    .dataframe tbody tr th {\n",
              "        vertical-align: top;\n",
              "    }\n",
              "\n",
              "    .dataframe thead th {\n",
              "        text-align: right;\n",
              "    }\n",
              "</style>\n",
              "<table border=\"1\" class=\"dataframe\">\n",
              "  <thead>\n",
              "    <tr style=\"text-align: right;\">\n",
              "      <th></th>\n",
              "      <th>user_id</th>\n",
              "      <th>anime_id</th>\n",
              "      <th>rating</th>\n",
              "    </tr>\n",
              "  </thead>\n",
              "  <tbody>\n",
              "    <tr>\n",
              "      <th>0</th>\n",
              "      <td>1</td>\n",
              "      <td>20</td>\n",
              "      <td>NaN</td>\n",
              "    </tr>\n",
              "    <tr>\n",
              "      <th>1</th>\n",
              "      <td>1</td>\n",
              "      <td>24</td>\n",
              "      <td>NaN</td>\n",
              "    </tr>\n",
              "    <tr>\n",
              "      <th>2</th>\n",
              "      <td>1</td>\n",
              "      <td>79</td>\n",
              "      <td>NaN</td>\n",
              "    </tr>\n",
              "    <tr>\n",
              "      <th>3</th>\n",
              "      <td>1</td>\n",
              "      <td>226</td>\n",
              "      <td>NaN</td>\n",
              "    </tr>\n",
              "    <tr>\n",
              "      <th>4</th>\n",
              "      <td>1</td>\n",
              "      <td>241</td>\n",
              "      <td>NaN</td>\n",
              "    </tr>\n",
              "    <tr>\n",
              "      <th>...</th>\n",
              "      <td>...</td>\n",
              "      <td>...</td>\n",
              "      <td>...</td>\n",
              "    </tr>\n",
              "    <tr>\n",
              "      <th>19995</th>\n",
              "      <td>247</td>\n",
              "      <td>3044</td>\n",
              "      <td>7.0</td>\n",
              "    </tr>\n",
              "    <tr>\n",
              "      <th>19996</th>\n",
              "      <td>247</td>\n",
              "      <td>3437</td>\n",
              "      <td>8.0</td>\n",
              "    </tr>\n",
              "    <tr>\n",
              "      <th>19997</th>\n",
              "      <td>247</td>\n",
              "      <td>3481</td>\n",
              "      <td>7.0</td>\n",
              "    </tr>\n",
              "    <tr>\n",
              "      <th>19998</th>\n",
              "      <td>247</td>\n",
              "      <td>3572</td>\n",
              "      <td>7.0</td>\n",
              "    </tr>\n",
              "    <tr>\n",
              "      <th>19999</th>\n",
              "      <td>247</td>\n",
              "      <td>3631</td>\n",
              "      <td>7.0</td>\n",
              "    </tr>\n",
              "  </tbody>\n",
              "</table>\n",
              "<p>20000 rows × 3 columns</p>\n",
              "</div>\n",
              "      <button class=\"colab-df-convert\" onclick=\"convertToInteractive('df-6fcf9f95-8302-4c14-bea9-f87da74d4e6c')\"\n",
              "              title=\"Convert this dataframe to an interactive table.\"\n",
              "              style=\"display:none;\">\n",
              "        \n",
              "  <svg xmlns=\"http://www.w3.org/2000/svg\" height=\"24px\"viewBox=\"0 0 24 24\"\n",
              "       width=\"24px\">\n",
              "    <path d=\"M0 0h24v24H0V0z\" fill=\"none\"/>\n",
              "    <path d=\"M18.56 5.44l.94 2.06.94-2.06 2.06-.94-2.06-.94-.94-2.06-.94 2.06-2.06.94zm-11 1L8.5 8.5l.94-2.06 2.06-.94-2.06-.94L8.5 2.5l-.94 2.06-2.06.94zm10 10l.94 2.06.94-2.06 2.06-.94-2.06-.94-.94-2.06-.94 2.06-2.06.94z\"/><path d=\"M17.41 7.96l-1.37-1.37c-.4-.4-.92-.59-1.43-.59-.52 0-1.04.2-1.43.59L10.3 9.45l-7.72 7.72c-.78.78-.78 2.05 0 2.83L4 21.41c.39.39.9.59 1.41.59.51 0 1.02-.2 1.41-.59l7.78-7.78 2.81-2.81c.8-.78.8-2.07 0-2.86zM5.41 20L4 18.59l7.72-7.72 1.47 1.35L5.41 20z\"/>\n",
              "  </svg>\n",
              "      </button>\n",
              "      \n",
              "  <style>\n",
              "    .colab-df-container {\n",
              "      display:flex;\n",
              "      flex-wrap:wrap;\n",
              "      gap: 12px;\n",
              "    }\n",
              "\n",
              "    .colab-df-convert {\n",
              "      background-color: #E8F0FE;\n",
              "      border: none;\n",
              "      border-radius: 50%;\n",
              "      cursor: pointer;\n",
              "      display: none;\n",
              "      fill: #1967D2;\n",
              "      height: 32px;\n",
              "      padding: 0 0 0 0;\n",
              "      width: 32px;\n",
              "    }\n",
              "\n",
              "    .colab-df-convert:hover {\n",
              "      background-color: #E2EBFA;\n",
              "      box-shadow: 0px 1px 2px rgba(60, 64, 67, 0.3), 0px 1px 3px 1px rgba(60, 64, 67, 0.15);\n",
              "      fill: #174EA6;\n",
              "    }\n",
              "\n",
              "    [theme=dark] .colab-df-convert {\n",
              "      background-color: #3B4455;\n",
              "      fill: #D2E3FC;\n",
              "    }\n",
              "\n",
              "    [theme=dark] .colab-df-convert:hover {\n",
              "      background-color: #434B5C;\n",
              "      box-shadow: 0px 1px 3px 1px rgba(0, 0, 0, 0.15);\n",
              "      filter: drop-shadow(0px 1px 2px rgba(0, 0, 0, 0.3));\n",
              "      fill: #FFFFFF;\n",
              "    }\n",
              "  </style>\n",
              "\n",
              "      <script>\n",
              "        const buttonEl =\n",
              "          document.querySelector('#df-6fcf9f95-8302-4c14-bea9-f87da74d4e6c button.colab-df-convert');\n",
              "        buttonEl.style.display =\n",
              "          google.colab.kernel.accessAllowed ? 'block' : 'none';\n",
              "\n",
              "        async function convertToInteractive(key) {\n",
              "          const element = document.querySelector('#df-6fcf9f95-8302-4c14-bea9-f87da74d4e6c');\n",
              "          const dataTable =\n",
              "            await google.colab.kernel.invokeFunction('convertToInteractive',\n",
              "                                                     [key], {});\n",
              "          if (!dataTable) return;\n",
              "\n",
              "          const docLinkHtml = 'Like what you see? Visit the ' +\n",
              "            '<a target=\"_blank\" href=https://colab.research.google.com/notebooks/data_table.ipynb>data table notebook</a>'\n",
              "            + ' to learn more about interactive tables.';\n",
              "          element.innerHTML = '';\n",
              "          dataTable['output_type'] = 'display_data';\n",
              "          await google.colab.output.renderOutput(dataTable, element);\n",
              "          const docLink = document.createElement('div');\n",
              "          docLink.innerHTML = docLinkHtml;\n",
              "          element.appendChild(docLink);\n",
              "        }\n",
              "      </script>\n",
              "    </div>\n",
              "  </div>\n",
              "  "
            ]
          },
          "metadata": {},
          "execution_count": 121
        }
      ]
    },
    {
      "cell_type": "markdown",
      "source": [
        "jika ada nilai NA, menghapus baris atau kolom itu."
      ],
      "metadata": {
        "id": "xHNm294P9JFW"
      }
    },
    {
      "cell_type": "code",
      "source": [
        "df_rating = df_rating.dropna(axis = 0, how ='any')\n",
        "df_rating"
      ],
      "metadata": {
        "colab": {
          "base_uri": "https://localhost:8080/",
          "height": 424
        },
        "id": "EXhre-7l80L4",
        "outputId": "7499fc2a-54b1-429f-cf34-085b9e280f44"
      },
      "execution_count": 122,
      "outputs": [
        {
          "output_type": "execute_result",
          "data": {
            "text/plain": [
              "       user_id  anime_id  rating\n",
              "47           1      8074    10.0\n",
              "81           1     11617    10.0\n",
              "83           1     11757    10.0\n",
              "101          1     15451    10.0\n",
              "153          2     11771    10.0\n",
              "...        ...       ...     ...\n",
              "19995      247      3044     7.0\n",
              "19996      247      3437     8.0\n",
              "19997      247      3481     7.0\n",
              "19998      247      3572     7.0\n",
              "19999      247      3631     7.0\n",
              "\n",
              "[15988 rows x 3 columns]"
            ],
            "text/html": [
              "\n",
              "  <div id=\"df-5a2ec9e0-f6bd-464c-b889-642806dde15f\">\n",
              "    <div class=\"colab-df-container\">\n",
              "      <div>\n",
              "<style scoped>\n",
              "    .dataframe tbody tr th:only-of-type {\n",
              "        vertical-align: middle;\n",
              "    }\n",
              "\n",
              "    .dataframe tbody tr th {\n",
              "        vertical-align: top;\n",
              "    }\n",
              "\n",
              "    .dataframe thead th {\n",
              "        text-align: right;\n",
              "    }\n",
              "</style>\n",
              "<table border=\"1\" class=\"dataframe\">\n",
              "  <thead>\n",
              "    <tr style=\"text-align: right;\">\n",
              "      <th></th>\n",
              "      <th>user_id</th>\n",
              "      <th>anime_id</th>\n",
              "      <th>rating</th>\n",
              "    </tr>\n",
              "  </thead>\n",
              "  <tbody>\n",
              "    <tr>\n",
              "      <th>47</th>\n",
              "      <td>1</td>\n",
              "      <td>8074</td>\n",
              "      <td>10.0</td>\n",
              "    </tr>\n",
              "    <tr>\n",
              "      <th>81</th>\n",
              "      <td>1</td>\n",
              "      <td>11617</td>\n",
              "      <td>10.0</td>\n",
              "    </tr>\n",
              "    <tr>\n",
              "      <th>83</th>\n",
              "      <td>1</td>\n",
              "      <td>11757</td>\n",
              "      <td>10.0</td>\n",
              "    </tr>\n",
              "    <tr>\n",
              "      <th>101</th>\n",
              "      <td>1</td>\n",
              "      <td>15451</td>\n",
              "      <td>10.0</td>\n",
              "    </tr>\n",
              "    <tr>\n",
              "      <th>153</th>\n",
              "      <td>2</td>\n",
              "      <td>11771</td>\n",
              "      <td>10.0</td>\n",
              "    </tr>\n",
              "    <tr>\n",
              "      <th>...</th>\n",
              "      <td>...</td>\n",
              "      <td>...</td>\n",
              "      <td>...</td>\n",
              "    </tr>\n",
              "    <tr>\n",
              "      <th>19995</th>\n",
              "      <td>247</td>\n",
              "      <td>3044</td>\n",
              "      <td>7.0</td>\n",
              "    </tr>\n",
              "    <tr>\n",
              "      <th>19996</th>\n",
              "      <td>247</td>\n",
              "      <td>3437</td>\n",
              "      <td>8.0</td>\n",
              "    </tr>\n",
              "    <tr>\n",
              "      <th>19997</th>\n",
              "      <td>247</td>\n",
              "      <td>3481</td>\n",
              "      <td>7.0</td>\n",
              "    </tr>\n",
              "    <tr>\n",
              "      <th>19998</th>\n",
              "      <td>247</td>\n",
              "      <td>3572</td>\n",
              "      <td>7.0</td>\n",
              "    </tr>\n",
              "    <tr>\n",
              "      <th>19999</th>\n",
              "      <td>247</td>\n",
              "      <td>3631</td>\n",
              "      <td>7.0</td>\n",
              "    </tr>\n",
              "  </tbody>\n",
              "</table>\n",
              "<p>15988 rows × 3 columns</p>\n",
              "</div>\n",
              "      <button class=\"colab-df-convert\" onclick=\"convertToInteractive('df-5a2ec9e0-f6bd-464c-b889-642806dde15f')\"\n",
              "              title=\"Convert this dataframe to an interactive table.\"\n",
              "              style=\"display:none;\">\n",
              "        \n",
              "  <svg xmlns=\"http://www.w3.org/2000/svg\" height=\"24px\"viewBox=\"0 0 24 24\"\n",
              "       width=\"24px\">\n",
              "    <path d=\"M0 0h24v24H0V0z\" fill=\"none\"/>\n",
              "    <path d=\"M18.56 5.44l.94 2.06.94-2.06 2.06-.94-2.06-.94-.94-2.06-.94 2.06-2.06.94zm-11 1L8.5 8.5l.94-2.06 2.06-.94-2.06-.94L8.5 2.5l-.94 2.06-2.06.94zm10 10l.94 2.06.94-2.06 2.06-.94-2.06-.94-.94-2.06-.94 2.06-2.06.94z\"/><path d=\"M17.41 7.96l-1.37-1.37c-.4-.4-.92-.59-1.43-.59-.52 0-1.04.2-1.43.59L10.3 9.45l-7.72 7.72c-.78.78-.78 2.05 0 2.83L4 21.41c.39.39.9.59 1.41.59.51 0 1.02-.2 1.41-.59l7.78-7.78 2.81-2.81c.8-.78.8-2.07 0-2.86zM5.41 20L4 18.59l7.72-7.72 1.47 1.35L5.41 20z\"/>\n",
              "  </svg>\n",
              "      </button>\n",
              "      \n",
              "  <style>\n",
              "    .colab-df-container {\n",
              "      display:flex;\n",
              "      flex-wrap:wrap;\n",
              "      gap: 12px;\n",
              "    }\n",
              "\n",
              "    .colab-df-convert {\n",
              "      background-color: #E8F0FE;\n",
              "      border: none;\n",
              "      border-radius: 50%;\n",
              "      cursor: pointer;\n",
              "      display: none;\n",
              "      fill: #1967D2;\n",
              "      height: 32px;\n",
              "      padding: 0 0 0 0;\n",
              "      width: 32px;\n",
              "    }\n",
              "\n",
              "    .colab-df-convert:hover {\n",
              "      background-color: #E2EBFA;\n",
              "      box-shadow: 0px 1px 2px rgba(60, 64, 67, 0.3), 0px 1px 3px 1px rgba(60, 64, 67, 0.15);\n",
              "      fill: #174EA6;\n",
              "    }\n",
              "\n",
              "    [theme=dark] .colab-df-convert {\n",
              "      background-color: #3B4455;\n",
              "      fill: #D2E3FC;\n",
              "    }\n",
              "\n",
              "    [theme=dark] .colab-df-convert:hover {\n",
              "      background-color: #434B5C;\n",
              "      box-shadow: 0px 1px 3px 1px rgba(0, 0, 0, 0.15);\n",
              "      filter: drop-shadow(0px 1px 2px rgba(0, 0, 0, 0.3));\n",
              "      fill: #FFFFFF;\n",
              "    }\n",
              "  </style>\n",
              "\n",
              "      <script>\n",
              "        const buttonEl =\n",
              "          document.querySelector('#df-5a2ec9e0-f6bd-464c-b889-642806dde15f button.colab-df-convert');\n",
              "        buttonEl.style.display =\n",
              "          google.colab.kernel.accessAllowed ? 'block' : 'none';\n",
              "\n",
              "        async function convertToInteractive(key) {\n",
              "          const element = document.querySelector('#df-5a2ec9e0-f6bd-464c-b889-642806dde15f');\n",
              "          const dataTable =\n",
              "            await google.colab.kernel.invokeFunction('convertToInteractive',\n",
              "                                                     [key], {});\n",
              "          if (!dataTable) return;\n",
              "\n",
              "          const docLinkHtml = 'Like what you see? Visit the ' +\n",
              "            '<a target=\"_blank\" href=https://colab.research.google.com/notebooks/data_table.ipynb>data table notebook</a>'\n",
              "            + ' to learn more about interactive tables.';\n",
              "          element.innerHTML = '';\n",
              "          dataTable['output_type'] = 'display_data';\n",
              "          await google.colab.output.renderOutput(dataTable, element);\n",
              "          const docLink = document.createElement('div');\n",
              "          docLink.innerHTML = docLinkHtml;\n",
              "          element.appendChild(docLink);\n",
              "        }\n",
              "      </script>\n",
              "    </div>\n",
              "  </div>\n",
              "  "
            ]
          },
          "metadata": {},
          "execution_count": 122
        }
      ]
    },
    {
      "cell_type": "markdown",
      "source": [
        "menghitung jumlah data null pada df_anime"
      ],
      "metadata": {
        "id": "b7iV2f2I44go"
      }
    },
    {
      "cell_type": "code",
      "source": [
        "df_anime.isnull().sum()"
      ],
      "metadata": {
        "colab": {
          "base_uri": "https://localhost:8080/"
        },
        "id": "atbHa6P34Unt",
        "outputId": "3b75c37e-ad52-4e14-9baf-bb6a3918b0a6"
      },
      "execution_count": 123,
      "outputs": [
        {
          "output_type": "execute_result",
          "data": {
            "text/plain": [
              "anime_id      0\n",
              "name          0\n",
              "genre        62\n",
              "type         25\n",
              "episodes      0\n",
              "rating      230\n",
              "members       0\n",
              "dtype: int64"
            ]
          },
          "metadata": {},
          "execution_count": 123
        }
      ]
    },
    {
      "cell_type": "markdown",
      "source": [
        "menghitung jumlah data null df_rating"
      ],
      "metadata": {
        "id": "gq0tJbrf7AJQ"
      }
    },
    {
      "cell_type": "code",
      "source": [
        "df_rating.isnull().sum()"
      ],
      "metadata": {
        "colab": {
          "base_uri": "https://localhost:8080/"
        },
        "id": "R822XsLf5Ph9",
        "outputId": "7cfdc8d5-1f64-4b41-ccda-6e1b96ac7101"
      },
      "execution_count": 124,
      "outputs": [
        {
          "output_type": "execute_result",
          "data": {
            "text/plain": [
              "user_id     0\n",
              "anime_id    0\n",
              "rating      0\n",
              "dtype: int64"
            ]
          },
          "metadata": {},
          "execution_count": 124
        }
      ]
    },
    {
      "cell_type": "markdown",
      "source": [
        "mengatasi data kosong dengan cara menghapusnya "
      ],
      "metadata": {
        "id": "K9VZFJXO5EgK"
      }
    },
    {
      "cell_type": "code",
      "source": [
        "df_anime =  df_anime.dropna()\n",
        "df_anime.isnull().sum()"
      ],
      "metadata": {
        "colab": {
          "base_uri": "https://localhost:8080/"
        },
        "id": "tUlm1lrg4_u0",
        "outputId": "be548586-e05d-4c17-b521-c6be67a60c21"
      },
      "execution_count": 125,
      "outputs": [
        {
          "output_type": "execute_result",
          "data": {
            "text/plain": [
              "anime_id    0\n",
              "name        0\n",
              "genre       0\n",
              "type        0\n",
              "episodes    0\n",
              "rating      0\n",
              "members     0\n",
              "dtype: int64"
            ]
          },
          "metadata": {},
          "execution_count": 125
        }
      ]
    },
    {
      "cell_type": "markdown",
      "source": [
        "# Content Based Filtering"
      ],
      "metadata": {
        "id": "SHA6TO0bFIIl"
      }
    },
    {
      "cell_type": "markdown",
      "source": [
        "TF-IDF Vectorizer"
      ],
      "metadata": {
        "id": "gCD9cB_qFLG0"
      }
    },
    {
      "cell_type": "code",
      "source": [
        "tf = TfidfVectorizer()\n",
        "tf.fit(df_anime['genre']) "
      ],
      "metadata": {
        "colab": {
          "base_uri": "https://localhost:8080/"
        },
        "id": "8O5qTyKuFJl5",
        "outputId": "cf95eb30-9991-4095-bdd0-bc0037d03b9f"
      },
      "execution_count": 126,
      "outputs": [
        {
          "output_type": "execute_result",
          "data": {
            "text/plain": [
              "TfidfVectorizer()"
            ]
          },
          "metadata": {},
          "execution_count": 126
        }
      ]
    },
    {
      "cell_type": "markdown",
      "source": [
        "membuat matrik"
      ],
      "metadata": {
        "id": "RCDRTOkvFZtv"
      }
    },
    {
      "cell_type": "code",
      "source": [
        "tfidf_matrix = tf.fit_transform(df_anime['genre']) \n",
        "\n",
        "tfidf_matrix.shape"
      ],
      "metadata": {
        "colab": {
          "base_uri": "https://localhost:8080/"
        },
        "id": "Q4vOhFp_FRwb",
        "outputId": "e52de559-df31-41ce-c144-851195162d93"
      },
      "execution_count": 127,
      "outputs": [
        {
          "output_type": "execute_result",
          "data": {
            "text/plain": [
              "(12017, 47)"
            ]
          },
          "metadata": {},
          "execution_count": 127
        }
      ]
    },
    {
      "cell_type": "markdown",
      "source": [
        "return representasi matriks padat dari matriks ini."
      ],
      "metadata": {
        "id": "b3q9GEHRFedI"
      }
    },
    {
      "cell_type": "code",
      "source": [
        "tfidf_matrix.todense()"
      ],
      "metadata": {
        "colab": {
          "base_uri": "https://localhost:8080/"
        },
        "id": "DpiQIFWWFWdo",
        "outputId": "ae3bf0b6-a5a4-4a04-ef33-bb245243e472"
      },
      "execution_count": 128,
      "outputs": [
        {
          "output_type": "execute_result",
          "data": {
            "text/plain": [
              "matrix([[0.        , 0.        , 0.        , ..., 0.        , 0.        ,\n",
              "         0.        ],\n",
              "        [0.29498527, 0.3162867 , 0.        , ..., 0.        , 0.        ,\n",
              "         0.        ],\n",
              "        [0.2516182 , 0.        , 0.        , ..., 0.        , 0.        ,\n",
              "         0.        ],\n",
              "        ...,\n",
              "        [0.        , 0.        , 0.        , ..., 0.        , 0.        ,\n",
              "         0.        ],\n",
              "        [0.        , 0.        , 0.        , ..., 0.        , 0.        ,\n",
              "         0.        ],\n",
              "        [0.        , 0.        , 0.        , ..., 0.        , 0.        ,\n",
              "         0.        ]])"
            ]
          },
          "metadata": {},
          "execution_count": 128
        }
      ]
    },
    {
      "cell_type": "markdown",
      "source": [
        "Membuat dataframe untuk melihat tf-idf matrix"
      ],
      "metadata": {
        "id": "lEMHCKbVGxKX"
      }
    },
    {
      "cell_type": "code",
      "source": [
        "pd.DataFrame(\n",
        "    tfidf_matrix.todense(), \n",
        "    columns=tf.get_feature_names(),\n",
        "    index=df_anime.name\n",
        ").sample(22, axis=1).sample(10, axis=0)"
      ],
      "metadata": {
        "colab": {
          "base_uri": "https://localhost:8080/",
          "height": 956
        },
        "id": "h1W5dPuUFdS7",
        "outputId": "ed7c361a-60dd-4321-fc13-7d05efbc1ac2"
      },
      "execution_count": 129,
      "outputs": [
        {
          "output_type": "stream",
          "name": "stderr",
          "text": [
            "/usr/local/lib/python3.7/dist-packages/sklearn/utils/deprecation.py:87: FutureWarning: Function get_feature_names is deprecated; get_feature_names is deprecated in 1.0 and will be removed in 1.2. Please use get_feature_names_out instead.\n",
            "  warnings.warn(msg, category=FutureWarning)\n"
          ]
        },
        {
          "output_type": "execute_result",
          "data": {
            "text/plain": [
              "                                                          ai  game      life  \\\n",
              "name                                                                           \n",
              "Human Crossing                                      0.000000   0.0  0.435349   \n",
              "Mori no Ongakudan                                   0.000000   0.0  0.000000   \n",
              "Tsuru ni Notte: Tomoko no Bouken                    0.000000   0.0  0.000000   \n",
              "Idol Fight Suchie-Pai 2                             0.000000   0.0  0.000000   \n",
              "Shakugan no Shana: Friagne to Marianne no Naze ...  0.000000   0.0  0.000000   \n",
              "Akuma no Riddle: Shousha wa Dare? Nukiuchi Test     0.660508   0.0  0.000000   \n",
              "Sekai Monoshiri Ryoko                               0.000000   0.0  0.000000   \n",
              "Subarashii Sekai Ryokou: Alaska no Tabi &quot;D...  0.000000   0.0  0.000000   \n",
              "Pokemon Diamond &amp; Pearl                         0.000000   0.0  0.000000   \n",
              "Hatsune Miku: Hiyashite Narasou Okashi no Ii Oto    0.000000   0.0  0.000000   \n",
              "\n",
              "                                                    military      kids  \\\n",
              "name                                                                     \n",
              "Human Crossing                                           0.0  0.000000   \n",
              "Mori no Ongakudan                                        0.0  0.000000   \n",
              "Tsuru ni Notte: Tomoko no Bouken                         0.0  0.000000   \n",
              "Idol Fight Suchie-Pai 2                                  0.0  0.000000   \n",
              "Shakugan no Shana: Friagne to Marianne no Naze ...       0.0  0.000000   \n",
              "Akuma no Riddle: Shousha wa Dare? Nukiuchi Test          0.0  0.000000   \n",
              "Sekai Monoshiri Ryoko                                    0.0  0.000000   \n",
              "Subarashii Sekai Ryokou: Alaska no Tabi &quot;D...       0.0  0.000000   \n",
              "Pokemon Diamond &amp; Pearl                              0.0  0.523349   \n",
              "Hatsune Miku: Hiyashite Narasou Okashi no Ii Oto         0.0  0.000000   \n",
              "\n",
              "                                                     shoujo  supernatural  \\\n",
              "name                                                                        \n",
              "Human Crossing                                      0.00000      0.000000   \n",
              "Mori no Ongakudan                                   0.00000      0.000000   \n",
              "Tsuru ni Notte: Tomoko no Bouken                    0.00000      0.000000   \n",
              "Idol Fight Suchie-Pai 2                             0.00000      0.000000   \n",
              "Shakugan no Shana: Friagne to Marianne no Naze ...  0.00000      0.723731   \n",
              "Akuma no Riddle: Shousha wa Dare? Nukiuchi Test     0.46067      0.000000   \n",
              "Sekai Monoshiri Ryoko                               0.00000      0.000000   \n",
              "Subarashii Sekai Ryokou: Alaska no Tabi &quot;D...  0.00000      0.000000   \n",
              "Pokemon Diamond &amp; Pearl                         0.00000      0.000000   \n",
              "Hatsune Miku: Hiyashite Narasou Okashi no Ii Oto    0.00000      0.000000   \n",
              "\n",
              "                                                    school    sports  \\\n",
              "name                                                                   \n",
              "Human Crossing                                         0.0  0.542716   \n",
              "Mori no Ongakudan                                      0.0  0.000000   \n",
              "Tsuru ni Notte: Tomoko no Bouken                       0.0  0.000000   \n",
              "Idol Fight Suchie-Pai 2                                0.0  0.000000   \n",
              "Shakugan no Shana: Friagne to Marianne no Naze ...     0.0  0.000000   \n",
              "Akuma no Riddle: Shousha wa Dare? Nukiuchi Test        0.0  0.000000   \n",
              "Sekai Monoshiri Ryoko                                  0.0  0.000000   \n",
              "Subarashii Sekai Ryokou: Alaska no Tabi &quot;D...     0.0  0.000000   \n",
              "Pokemon Diamond &amp; Pearl                            0.0  0.000000   \n",
              "Hatsune Miku: Hiyashite Narasou Okashi no Ii Oto       0.0  0.000000   \n",
              "\n",
              "                                                       ecchi  ...  hentai  \\\n",
              "name                                                          ...           \n",
              "Human Crossing                                      0.000000  ...     0.0   \n",
              "Mori no Ongakudan                                   0.000000  ...     0.0   \n",
              "Tsuru ni Notte: Tomoko no Bouken                    0.000000  ...     0.0   \n",
              "Idol Fight Suchie-Pai 2                             0.848080  ...     0.0   \n",
              "Shakugan no Shana: Friagne to Marianne no Naze ...  0.000000  ...     0.0   \n",
              "Akuma no Riddle: Shousha wa Dare? Nukiuchi Test     0.463252  ...     0.0   \n",
              "Sekai Monoshiri Ryoko                               0.000000  ...     0.0   \n",
              "Subarashii Sekai Ryokou: Alaska no Tabi &quot;D...  0.000000  ...     0.0   \n",
              "Pokemon Diamond &amp; Pearl                         0.000000  ...     0.0   \n",
              "Hatsune Miku: Hiyashite Narasou Okashi no Ii Oto    0.000000  ...     0.0   \n",
              "\n",
              "                                                    police  space     slice  \\\n",
              "name                                                                          \n",
              "Human Crossing                                         0.0    0.0  0.435349   \n",
              "Mori no Ongakudan                                      0.0    0.0  0.000000   \n",
              "Tsuru ni Notte: Tomoko no Bouken                       0.0    0.0  0.000000   \n",
              "Idol Fight Suchie-Pai 2                                0.0    0.0  0.000000   \n",
              "Shakugan no Shana: Friagne to Marianne no Naze ...     0.0    0.0  0.000000   \n",
              "Akuma no Riddle: Shousha wa Dare? Nukiuchi Test        0.0    0.0  0.000000   \n",
              "Sekai Monoshiri Ryoko                                  0.0    0.0  0.000000   \n",
              "Subarashii Sekai Ryokou: Alaska no Tabi &quot;D...     0.0    0.0  0.000000   \n",
              "Pokemon Diamond &amp; Pearl                            0.0    0.0  0.000000   \n",
              "Hatsune Miku: Hiyashite Narasou Okashi no Ii Oto       0.0    0.0  0.000000   \n",
              "\n",
              "                                                    yaoi  super  yuri  \\\n",
              "name                                                                    \n",
              "Human Crossing                                       0.0    0.0   0.0   \n",
              "Mori no Ongakudan                                    0.0    0.0   0.0   \n",
              "Tsuru ni Notte: Tomoko no Bouken                     0.0    0.0   0.0   \n",
              "Idol Fight Suchie-Pai 2                              0.0    0.0   0.0   \n",
              "Shakugan no Shana: Friagne to Marianne no Naze ...   0.0    0.0   0.0   \n",
              "Akuma no Riddle: Shousha wa Dare? Nukiuchi Test      0.0    0.0   0.0   \n",
              "Sekai Monoshiri Ryoko                                0.0    0.0   0.0   \n",
              "Subarashii Sekai Ryokou: Alaska no Tabi &quot;D...   0.0    0.0   0.0   \n",
              "Pokemon Diamond &amp; Pearl                          0.0    0.0   0.0   \n",
              "Hatsune Miku: Hiyashite Narasou Okashi no Ii Oto     0.0    0.0   0.0   \n",
              "\n",
              "                                                     fantasy  samurai  josei  \n",
              "name                                                                          \n",
              "Human Crossing                                      0.000000      0.0    0.0  \n",
              "Mori no Ongakudan                                   0.000000      0.0    0.0  \n",
              "Tsuru ni Notte: Tomoko no Bouken                    0.000000      0.0    0.0  \n",
              "Idol Fight Suchie-Pai 2                             0.000000      0.0    0.0  \n",
              "Shakugan no Shana: Friagne to Marianne no Naze ...  0.556359      0.0    0.0  \n",
              "Akuma no Riddle: Shousha wa Dare? Nukiuchi Test     0.000000      0.0    0.0  \n",
              "Sekai Monoshiri Ryoko                               0.000000      0.0    0.0  \n",
              "Subarashii Sekai Ryokou: Alaska no Tabi &quot;D...  0.000000      0.0    0.0  \n",
              "Pokemon Diamond &amp; Pearl                         0.464642      0.0    0.0  \n",
              "Hatsune Miku: Hiyashite Narasou Okashi no Ii Oto    0.000000      0.0    0.0  \n",
              "\n",
              "[10 rows x 22 columns]"
            ],
            "text/html": [
              "\n",
              "  <div id=\"df-b5e6d0e3-d2c9-4c44-aaae-9d73f96d0afd\">\n",
              "    <div class=\"colab-df-container\">\n",
              "      <div>\n",
              "<style scoped>\n",
              "    .dataframe tbody tr th:only-of-type {\n",
              "        vertical-align: middle;\n",
              "    }\n",
              "\n",
              "    .dataframe tbody tr th {\n",
              "        vertical-align: top;\n",
              "    }\n",
              "\n",
              "    .dataframe thead th {\n",
              "        text-align: right;\n",
              "    }\n",
              "</style>\n",
              "<table border=\"1\" class=\"dataframe\">\n",
              "  <thead>\n",
              "    <tr style=\"text-align: right;\">\n",
              "      <th></th>\n",
              "      <th>ai</th>\n",
              "      <th>game</th>\n",
              "      <th>life</th>\n",
              "      <th>military</th>\n",
              "      <th>kids</th>\n",
              "      <th>shoujo</th>\n",
              "      <th>supernatural</th>\n",
              "      <th>school</th>\n",
              "      <th>sports</th>\n",
              "      <th>ecchi</th>\n",
              "      <th>...</th>\n",
              "      <th>hentai</th>\n",
              "      <th>police</th>\n",
              "      <th>space</th>\n",
              "      <th>slice</th>\n",
              "      <th>yaoi</th>\n",
              "      <th>super</th>\n",
              "      <th>yuri</th>\n",
              "      <th>fantasy</th>\n",
              "      <th>samurai</th>\n",
              "      <th>josei</th>\n",
              "    </tr>\n",
              "    <tr>\n",
              "      <th>name</th>\n",
              "      <th></th>\n",
              "      <th></th>\n",
              "      <th></th>\n",
              "      <th></th>\n",
              "      <th></th>\n",
              "      <th></th>\n",
              "      <th></th>\n",
              "      <th></th>\n",
              "      <th></th>\n",
              "      <th></th>\n",
              "      <th></th>\n",
              "      <th></th>\n",
              "      <th></th>\n",
              "      <th></th>\n",
              "      <th></th>\n",
              "      <th></th>\n",
              "      <th></th>\n",
              "      <th></th>\n",
              "      <th></th>\n",
              "      <th></th>\n",
              "      <th></th>\n",
              "    </tr>\n",
              "  </thead>\n",
              "  <tbody>\n",
              "    <tr>\n",
              "      <th>Human Crossing</th>\n",
              "      <td>0.000000</td>\n",
              "      <td>0.0</td>\n",
              "      <td>0.435349</td>\n",
              "      <td>0.0</td>\n",
              "      <td>0.000000</td>\n",
              "      <td>0.00000</td>\n",
              "      <td>0.000000</td>\n",
              "      <td>0.0</td>\n",
              "      <td>0.542716</td>\n",
              "      <td>0.000000</td>\n",
              "      <td>...</td>\n",
              "      <td>0.0</td>\n",
              "      <td>0.0</td>\n",
              "      <td>0.0</td>\n",
              "      <td>0.435349</td>\n",
              "      <td>0.0</td>\n",
              "      <td>0.0</td>\n",
              "      <td>0.0</td>\n",
              "      <td>0.000000</td>\n",
              "      <td>0.0</td>\n",
              "      <td>0.0</td>\n",
              "    </tr>\n",
              "    <tr>\n",
              "      <th>Mori no Ongakudan</th>\n",
              "      <td>0.000000</td>\n",
              "      <td>0.0</td>\n",
              "      <td>0.000000</td>\n",
              "      <td>0.0</td>\n",
              "      <td>0.000000</td>\n",
              "      <td>0.00000</td>\n",
              "      <td>0.000000</td>\n",
              "      <td>0.0</td>\n",
              "      <td>0.000000</td>\n",
              "      <td>0.000000</td>\n",
              "      <td>...</td>\n",
              "      <td>0.0</td>\n",
              "      <td>0.0</td>\n",
              "      <td>0.0</td>\n",
              "      <td>0.000000</td>\n",
              "      <td>0.0</td>\n",
              "      <td>0.0</td>\n",
              "      <td>0.0</td>\n",
              "      <td>0.000000</td>\n",
              "      <td>0.0</td>\n",
              "      <td>0.0</td>\n",
              "    </tr>\n",
              "    <tr>\n",
              "      <th>Tsuru ni Notte: Tomoko no Bouken</th>\n",
              "      <td>0.000000</td>\n",
              "      <td>0.0</td>\n",
              "      <td>0.000000</td>\n",
              "      <td>0.0</td>\n",
              "      <td>0.000000</td>\n",
              "      <td>0.00000</td>\n",
              "      <td>0.000000</td>\n",
              "      <td>0.0</td>\n",
              "      <td>0.000000</td>\n",
              "      <td>0.000000</td>\n",
              "      <td>...</td>\n",
              "      <td>0.0</td>\n",
              "      <td>0.0</td>\n",
              "      <td>0.0</td>\n",
              "      <td>0.000000</td>\n",
              "      <td>0.0</td>\n",
              "      <td>0.0</td>\n",
              "      <td>0.0</td>\n",
              "      <td>0.000000</td>\n",
              "      <td>0.0</td>\n",
              "      <td>0.0</td>\n",
              "    </tr>\n",
              "    <tr>\n",
              "      <th>Idol Fight Suchie-Pai 2</th>\n",
              "      <td>0.000000</td>\n",
              "      <td>0.0</td>\n",
              "      <td>0.000000</td>\n",
              "      <td>0.0</td>\n",
              "      <td>0.000000</td>\n",
              "      <td>0.00000</td>\n",
              "      <td>0.000000</td>\n",
              "      <td>0.0</td>\n",
              "      <td>0.000000</td>\n",
              "      <td>0.848080</td>\n",
              "      <td>...</td>\n",
              "      <td>0.0</td>\n",
              "      <td>0.0</td>\n",
              "      <td>0.0</td>\n",
              "      <td>0.000000</td>\n",
              "      <td>0.0</td>\n",
              "      <td>0.0</td>\n",
              "      <td>0.0</td>\n",
              "      <td>0.000000</td>\n",
              "      <td>0.0</td>\n",
              "      <td>0.0</td>\n",
              "    </tr>\n",
              "    <tr>\n",
              "      <th>Shakugan no Shana: Friagne to Marianne no Naze Nani Shana! Nandemo Shitsumonbako!</th>\n",
              "      <td>0.000000</td>\n",
              "      <td>0.0</td>\n",
              "      <td>0.000000</td>\n",
              "      <td>0.0</td>\n",
              "      <td>0.000000</td>\n",
              "      <td>0.00000</td>\n",
              "      <td>0.723731</td>\n",
              "      <td>0.0</td>\n",
              "      <td>0.000000</td>\n",
              "      <td>0.000000</td>\n",
              "      <td>...</td>\n",
              "      <td>0.0</td>\n",
              "      <td>0.0</td>\n",
              "      <td>0.0</td>\n",
              "      <td>0.000000</td>\n",
              "      <td>0.0</td>\n",
              "      <td>0.0</td>\n",
              "      <td>0.0</td>\n",
              "      <td>0.556359</td>\n",
              "      <td>0.0</td>\n",
              "      <td>0.0</td>\n",
              "    </tr>\n",
              "    <tr>\n",
              "      <th>Akuma no Riddle: Shousha wa Dare? Nukiuchi Test</th>\n",
              "      <td>0.660508</td>\n",
              "      <td>0.0</td>\n",
              "      <td>0.000000</td>\n",
              "      <td>0.0</td>\n",
              "      <td>0.000000</td>\n",
              "      <td>0.46067</td>\n",
              "      <td>0.000000</td>\n",
              "      <td>0.0</td>\n",
              "      <td>0.000000</td>\n",
              "      <td>0.463252</td>\n",
              "      <td>...</td>\n",
              "      <td>0.0</td>\n",
              "      <td>0.0</td>\n",
              "      <td>0.0</td>\n",
              "      <td>0.000000</td>\n",
              "      <td>0.0</td>\n",
              "      <td>0.0</td>\n",
              "      <td>0.0</td>\n",
              "      <td>0.000000</td>\n",
              "      <td>0.0</td>\n",
              "      <td>0.0</td>\n",
              "    </tr>\n",
              "    <tr>\n",
              "      <th>Sekai Monoshiri Ryoko</th>\n",
              "      <td>0.000000</td>\n",
              "      <td>0.0</td>\n",
              "      <td>0.000000</td>\n",
              "      <td>0.0</td>\n",
              "      <td>0.000000</td>\n",
              "      <td>0.00000</td>\n",
              "      <td>0.000000</td>\n",
              "      <td>0.0</td>\n",
              "      <td>0.000000</td>\n",
              "      <td>0.000000</td>\n",
              "      <td>...</td>\n",
              "      <td>0.0</td>\n",
              "      <td>0.0</td>\n",
              "      <td>0.0</td>\n",
              "      <td>0.000000</td>\n",
              "      <td>0.0</td>\n",
              "      <td>0.0</td>\n",
              "      <td>0.0</td>\n",
              "      <td>0.000000</td>\n",
              "      <td>0.0</td>\n",
              "      <td>0.0</td>\n",
              "    </tr>\n",
              "    <tr>\n",
              "      <th>Subarashii Sekai Ryokou: Alaska no Tabi &amp;quot;Daigo Hyougaki&amp;quot;</th>\n",
              "      <td>0.000000</td>\n",
              "      <td>0.0</td>\n",
              "      <td>0.000000</td>\n",
              "      <td>0.0</td>\n",
              "      <td>0.000000</td>\n",
              "      <td>0.00000</td>\n",
              "      <td>0.000000</td>\n",
              "      <td>0.0</td>\n",
              "      <td>0.000000</td>\n",
              "      <td>0.000000</td>\n",
              "      <td>...</td>\n",
              "      <td>0.0</td>\n",
              "      <td>0.0</td>\n",
              "      <td>0.0</td>\n",
              "      <td>0.000000</td>\n",
              "      <td>0.0</td>\n",
              "      <td>0.0</td>\n",
              "      <td>0.0</td>\n",
              "      <td>0.000000</td>\n",
              "      <td>0.0</td>\n",
              "      <td>0.0</td>\n",
              "    </tr>\n",
              "    <tr>\n",
              "      <th>Pokemon Diamond &amp;amp; Pearl</th>\n",
              "      <td>0.000000</td>\n",
              "      <td>0.0</td>\n",
              "      <td>0.000000</td>\n",
              "      <td>0.0</td>\n",
              "      <td>0.523349</td>\n",
              "      <td>0.00000</td>\n",
              "      <td>0.000000</td>\n",
              "      <td>0.0</td>\n",
              "      <td>0.000000</td>\n",
              "      <td>0.000000</td>\n",
              "      <td>...</td>\n",
              "      <td>0.0</td>\n",
              "      <td>0.0</td>\n",
              "      <td>0.0</td>\n",
              "      <td>0.000000</td>\n",
              "      <td>0.0</td>\n",
              "      <td>0.0</td>\n",
              "      <td>0.0</td>\n",
              "      <td>0.464642</td>\n",
              "      <td>0.0</td>\n",
              "      <td>0.0</td>\n",
              "    </tr>\n",
              "    <tr>\n",
              "      <th>Hatsune Miku: Hiyashite Narasou Okashi no Ii Oto</th>\n",
              "      <td>0.000000</td>\n",
              "      <td>0.0</td>\n",
              "      <td>0.000000</td>\n",
              "      <td>0.0</td>\n",
              "      <td>0.000000</td>\n",
              "      <td>0.00000</td>\n",
              "      <td>0.000000</td>\n",
              "      <td>0.0</td>\n",
              "      <td>0.000000</td>\n",
              "      <td>0.000000</td>\n",
              "      <td>...</td>\n",
              "      <td>0.0</td>\n",
              "      <td>0.0</td>\n",
              "      <td>0.0</td>\n",
              "      <td>0.000000</td>\n",
              "      <td>0.0</td>\n",
              "      <td>0.0</td>\n",
              "      <td>0.0</td>\n",
              "      <td>0.000000</td>\n",
              "      <td>0.0</td>\n",
              "      <td>0.0</td>\n",
              "    </tr>\n",
              "  </tbody>\n",
              "</table>\n",
              "<p>10 rows × 22 columns</p>\n",
              "</div>\n",
              "      <button class=\"colab-df-convert\" onclick=\"convertToInteractive('df-b5e6d0e3-d2c9-4c44-aaae-9d73f96d0afd')\"\n",
              "              title=\"Convert this dataframe to an interactive table.\"\n",
              "              style=\"display:none;\">\n",
              "        \n",
              "  <svg xmlns=\"http://www.w3.org/2000/svg\" height=\"24px\"viewBox=\"0 0 24 24\"\n",
              "       width=\"24px\">\n",
              "    <path d=\"M0 0h24v24H0V0z\" fill=\"none\"/>\n",
              "    <path d=\"M18.56 5.44l.94 2.06.94-2.06 2.06-.94-2.06-.94-.94-2.06-.94 2.06-2.06.94zm-11 1L8.5 8.5l.94-2.06 2.06-.94-2.06-.94L8.5 2.5l-.94 2.06-2.06.94zm10 10l.94 2.06.94-2.06 2.06-.94-2.06-.94-.94-2.06-.94 2.06-2.06.94z\"/><path d=\"M17.41 7.96l-1.37-1.37c-.4-.4-.92-.59-1.43-.59-.52 0-1.04.2-1.43.59L10.3 9.45l-7.72 7.72c-.78.78-.78 2.05 0 2.83L4 21.41c.39.39.9.59 1.41.59.51 0 1.02-.2 1.41-.59l7.78-7.78 2.81-2.81c.8-.78.8-2.07 0-2.86zM5.41 20L4 18.59l7.72-7.72 1.47 1.35L5.41 20z\"/>\n",
              "  </svg>\n",
              "      </button>\n",
              "      \n",
              "  <style>\n",
              "    .colab-df-container {\n",
              "      display:flex;\n",
              "      flex-wrap:wrap;\n",
              "      gap: 12px;\n",
              "    }\n",
              "\n",
              "    .colab-df-convert {\n",
              "      background-color: #E8F0FE;\n",
              "      border: none;\n",
              "      border-radius: 50%;\n",
              "      cursor: pointer;\n",
              "      display: none;\n",
              "      fill: #1967D2;\n",
              "      height: 32px;\n",
              "      padding: 0 0 0 0;\n",
              "      width: 32px;\n",
              "    }\n",
              "\n",
              "    .colab-df-convert:hover {\n",
              "      background-color: #E2EBFA;\n",
              "      box-shadow: 0px 1px 2px rgba(60, 64, 67, 0.3), 0px 1px 3px 1px rgba(60, 64, 67, 0.15);\n",
              "      fill: #174EA6;\n",
              "    }\n",
              "\n",
              "    [theme=dark] .colab-df-convert {\n",
              "      background-color: #3B4455;\n",
              "      fill: #D2E3FC;\n",
              "    }\n",
              "\n",
              "    [theme=dark] .colab-df-convert:hover {\n",
              "      background-color: #434B5C;\n",
              "      box-shadow: 0px 1px 3px 1px rgba(0, 0, 0, 0.15);\n",
              "      filter: drop-shadow(0px 1px 2px rgba(0, 0, 0, 0.3));\n",
              "      fill: #FFFFFF;\n",
              "    }\n",
              "  </style>\n",
              "\n",
              "      <script>\n",
              "        const buttonEl =\n",
              "          document.querySelector('#df-b5e6d0e3-d2c9-4c44-aaae-9d73f96d0afd button.colab-df-convert');\n",
              "        buttonEl.style.display =\n",
              "          google.colab.kernel.accessAllowed ? 'block' : 'none';\n",
              "\n",
              "        async function convertToInteractive(key) {\n",
              "          const element = document.querySelector('#df-b5e6d0e3-d2c9-4c44-aaae-9d73f96d0afd');\n",
              "          const dataTable =\n",
              "            await google.colab.kernel.invokeFunction('convertToInteractive',\n",
              "                                                     [key], {});\n",
              "          if (!dataTable) return;\n",
              "\n",
              "          const docLinkHtml = 'Like what you see? Visit the ' +\n",
              "            '<a target=\"_blank\" href=https://colab.research.google.com/notebooks/data_table.ipynb>data table notebook</a>'\n",
              "            + ' to learn more about interactive tables.';\n",
              "          element.innerHTML = '';\n",
              "          dataTable['output_type'] = 'display_data';\n",
              "          await google.colab.output.renderOutput(dataTable, element);\n",
              "          const docLink = document.createElement('div');\n",
              "          docLink.innerHTML = docLinkHtml;\n",
              "          element.appendChild(docLink);\n",
              "        }\n",
              "      </script>\n",
              "    </div>\n",
              "  </div>\n",
              "  "
            ]
          },
          "metadata": {},
          "execution_count": 129
        }
      ]
    },
    {
      "cell_type": "markdown",
      "source": [
        "**Cosine Similarity**\n",
        "Menghitung cosine similarity pada matrix tf-idf"
      ],
      "metadata": {
        "id": "Afe5A_vHGcIM"
      }
    },
    {
      "cell_type": "markdown",
      "source": [],
      "metadata": {
        "id": "k6b7J6HwG0SK"
      }
    },
    {
      "cell_type": "code",
      "source": [
        "from sklearn.metrics.pairwise import cosine_similarity\n",
        "\n",
        "cosine_sim = cosine_similarity(tfidf_matrix) \n",
        "cosine_sim"
      ],
      "metadata": {
        "colab": {
          "base_uri": "https://localhost:8080/"
        },
        "id": "CArso885GInw",
        "outputId": "50733e6e-6f1c-4d6c-a8ce-27ddec097c10"
      },
      "execution_count": 130,
      "outputs": [
        {
          "output_type": "execute_result",
          "data": {
            "text/plain": [
              "array([[1.        , 0.14715318, 0.        , ..., 0.        , 0.        ,\n",
              "        0.        ],\n",
              "       [0.14715318, 1.        , 0.17877808, ..., 0.        , 0.        ,\n",
              "        0.        ],\n",
              "       [0.        , 0.17877808, 1.        , ..., 0.        , 0.        ,\n",
              "        0.        ],\n",
              "       ...,\n",
              "       [0.        , 0.        , 0.        , ..., 1.        , 1.        ,\n",
              "        1.        ],\n",
              "       [0.        , 0.        , 0.        , ..., 1.        , 1.        ,\n",
              "        1.        ],\n",
              "       [0.        , 0.        , 0.        , ..., 1.        , 1.        ,\n",
              "        1.        ]])"
            ]
          },
          "metadata": {},
          "execution_count": 130
        }
      ]
    },
    {
      "cell_type": "markdown",
      "source": [
        "* Membuat dataframe dari variabel cosine_sim dengan baris dan kolom berupa nama anime\n",
        "* Melihat similarity matrix pada setiap resto"
      ],
      "metadata": {
        "id": "ANjroSyVHYyj"
      }
    },
    {
      "cell_type": "code",
      "source": [
        "cosine_sim_df = pd.DataFrame(cosine_sim, index=df_anime['name'], columns=df_anime['name'])\n",
        "print('Shape:', cosine_sim_df.shape)\n",
        "\n",
        "cosine_sim_df.sample(5, axis=1).sample(20, axis=0)"
      ],
      "metadata": {
        "colab": {
          "base_uri": "https://localhost:8080/",
          "height": 821
        },
        "id": "ZX9TSkyWGhrM",
        "outputId": "d89d9464-4548-49b9-d4a6-ab02cab45c16"
      },
      "execution_count": 131,
      "outputs": [
        {
          "output_type": "stream",
          "name": "stdout",
          "text": [
            "Shape: (12017, 12017)\n"
          ]
        },
        {
          "output_type": "execute_result",
          "data": {
            "text/plain": [
              "name                                                Rasen Sokou no Dystopia  \\\n",
              "name                                                                          \n",
              "Petit Manga                                                             0.0   \n",
              "Tekken                                                                  0.0   \n",
              "Ba La La Xiao Mo Xian Zhi: Qiji Wubu                                    0.0   \n",
              "Kotoura-san: Haruka no Heya                                             0.0   \n",
              "Norakuro Nitouhei: Kyouren no Maki                                      0.0   \n",
              "Violence Gekiga Shin David no Hoshi: Inma Densetsu                      1.0   \n",
              "Towa no Quon 5: Souzetsu no Raifuku                                     0.0   \n",
              "Fly                                                                     0.0   \n",
              "Spectral Force                                                          0.0   \n",
              "Queen Emeraldas                                                         0.0   \n",
              "Tensai Bakabon                                                          0.0   \n",
              "Kigurumi Sentai Quiltian                                                1.0   \n",
              "Kakegae no                                                              0.0   \n",
              "Fullmetal Alchemist: Premium Collection                                 0.0   \n",
              "Divergence Eve 2: Misaki Chronicles                                     0.0   \n",
              "Hoozuki no Reitetsu                                                     0.0   \n",
              "Super Robot Taisen OG: Divine Wars Special                              0.0   \n",
              "Aries: Shinwa no Seizakyuu                                              0.0   \n",
              "Qin Shiming Yue Zhi: Bai Bu Fei Jian                                    0.0   \n",
              "Kunoichi Bakumatsu Kitan                                                1.0   \n",
              "\n",
              "name                                                Pic-lele  Ashita Kirarin  \\\n",
              "name                                                                           \n",
              "Petit Manga                                              0.0        0.000000   \n",
              "Tekken                                                   0.0        0.000000   \n",
              "Ba La La Xiao Mo Xian Zhi: Qiji Wubu                     0.0        0.000000   \n",
              "Kotoura-san: Haruka no Heya                              0.0        0.000000   \n",
              "Norakuro Nitouhei: Kyouren no Maki                       0.0        0.000000   \n",
              "Violence Gekiga Shin David no Hoshi: Inma Densetsu       0.0        0.000000   \n",
              "Towa no Quon 5: Souzetsu no Raifuku                      0.0        0.000000   \n",
              "Fly                                                      0.0        0.000000   \n",
              "Spectral Force                                           0.0        0.000000   \n",
              "Queen Emeraldas                                          0.0        0.000000   \n",
              "Tensai Bakabon                                           0.0        0.000000   \n",
              "Kigurumi Sentai Quiltian                                 0.0        0.000000   \n",
              "Kakegae no                                               0.0        0.680815   \n",
              "Fullmetal Alchemist: Premium Collection                  0.0        0.000000   \n",
              "Divergence Eve 2: Misaki Chronicles                      0.0        0.211048   \n",
              "Hoozuki no Reitetsu                                      0.0        0.000000   \n",
              "Super Robot Taisen OG: Divine Wars Special               0.0        0.000000   \n",
              "Aries: Shinwa no Seizakyuu                               0.0        0.000000   \n",
              "Qin Shiming Yue Zhi: Bai Bu Fei Jian                     0.0        0.000000   \n",
              "Kunoichi Bakumatsu Kitan                                 0.0        0.000000   \n",
              "\n",
              "name                                                Shounen Maid Kuuro-kun: Tenshi no Uta  \\\n",
              "name                                                                                        \n",
              "Petit Manga                                                                       0.00000   \n",
              "Tekken                                                                            0.00000   \n",
              "Ba La La Xiao Mo Xian Zhi: Qiji Wubu                                              0.00000   \n",
              "Kotoura-san: Haruka no Heya                                                       0.00000   \n",
              "Norakuro Nitouhei: Kyouren no Maki                                                0.00000   \n",
              "Violence Gekiga Shin David no Hoshi: Inma Densetsu                                0.44672   \n",
              "Towa no Quon 5: Souzetsu no Raifuku                                               0.00000   \n",
              "Fly                                                                               0.00000   \n",
              "Spectral Force                                                                    0.00000   \n",
              "Queen Emeraldas                                                                   0.00000   \n",
              "Tensai Bakabon                                                                    0.00000   \n",
              "Kigurumi Sentai Quiltian                                                          0.44672   \n",
              "Kakegae no                                                                        0.00000   \n",
              "Fullmetal Alchemist: Premium Collection                                           0.00000   \n",
              "Divergence Eve 2: Misaki Chronicles                                               0.00000   \n",
              "Hoozuki no Reitetsu                                                               0.00000   \n",
              "Super Robot Taisen OG: Divine Wars Special                                        0.00000   \n",
              "Aries: Shinwa no Seizakyuu                                                        0.00000   \n",
              "Qin Shiming Yue Zhi: Bai Bu Fei Jian                                              0.00000   \n",
              "Kunoichi Bakumatsu Kitan                                                          0.44672   \n",
              "\n",
              "name                                                SKET Dance: SD Character Flash Anime  \n",
              "name                                                                                      \n",
              "Petit Manga                                                                     0.000000  \n",
              "Tekken                                                                          0.000000  \n",
              "Ba La La Xiao Mo Xian Zhi: Qiji Wubu                                            0.137615  \n",
              "Kotoura-san: Haruka no Heya                                                     0.796701  \n",
              "Norakuro Nitouhei: Kyouren no Maki                                              0.000000  \n",
              "Violence Gekiga Shin David no Hoshi: Inma Densetsu                              0.000000  \n",
              "Towa no Quon 5: Souzetsu no Raifuku                                             0.000000  \n",
              "Fly                                                                             0.000000  \n",
              "Spectral Force                                                                  0.000000  \n",
              "Queen Emeraldas                                                                 0.000000  \n",
              "Tensai Bakabon                                                                  0.131892  \n",
              "Kigurumi Sentai Quiltian                                                        0.000000  \n",
              "Kakegae no                                                                      0.000000  \n",
              "Fullmetal Alchemist: Premium Collection                                         0.579661  \n",
              "Divergence Eve 2: Misaki Chronicles                                             0.000000  \n",
              "Hoozuki no Reitetsu                                                             0.165579  \n",
              "Super Robot Taisen OG: Divine Wars Special                                      0.167612  \n",
              "Aries: Shinwa no Seizakyuu                                                      0.000000  \n",
              "Qin Shiming Yue Zhi: Bai Bu Fei Jian                                            0.000000  \n",
              "Kunoichi Bakumatsu Kitan                                                        0.000000  "
            ],
            "text/html": [
              "\n",
              "  <div id=\"df-1f26a338-9dc8-4ab4-b43a-3b6b33212d23\">\n",
              "    <div class=\"colab-df-container\">\n",
              "      <div>\n",
              "<style scoped>\n",
              "    .dataframe tbody tr th:only-of-type {\n",
              "        vertical-align: middle;\n",
              "    }\n",
              "\n",
              "    .dataframe tbody tr th {\n",
              "        vertical-align: top;\n",
              "    }\n",
              "\n",
              "    .dataframe thead th {\n",
              "        text-align: right;\n",
              "    }\n",
              "</style>\n",
              "<table border=\"1\" class=\"dataframe\">\n",
              "  <thead>\n",
              "    <tr style=\"text-align: right;\">\n",
              "      <th>name</th>\n",
              "      <th>Rasen Sokou no Dystopia</th>\n",
              "      <th>Pic-lele</th>\n",
              "      <th>Ashita Kirarin</th>\n",
              "      <th>Shounen Maid Kuuro-kun: Tenshi no Uta</th>\n",
              "      <th>SKET Dance: SD Character Flash Anime</th>\n",
              "    </tr>\n",
              "    <tr>\n",
              "      <th>name</th>\n",
              "      <th></th>\n",
              "      <th></th>\n",
              "      <th></th>\n",
              "      <th></th>\n",
              "      <th></th>\n",
              "    </tr>\n",
              "  </thead>\n",
              "  <tbody>\n",
              "    <tr>\n",
              "      <th>Petit Manga</th>\n",
              "      <td>0.0</td>\n",
              "      <td>0.0</td>\n",
              "      <td>0.000000</td>\n",
              "      <td>0.00000</td>\n",
              "      <td>0.000000</td>\n",
              "    </tr>\n",
              "    <tr>\n",
              "      <th>Tekken</th>\n",
              "      <td>0.0</td>\n",
              "      <td>0.0</td>\n",
              "      <td>0.000000</td>\n",
              "      <td>0.00000</td>\n",
              "      <td>0.000000</td>\n",
              "    </tr>\n",
              "    <tr>\n",
              "      <th>Ba La La Xiao Mo Xian Zhi: Qiji Wubu</th>\n",
              "      <td>0.0</td>\n",
              "      <td>0.0</td>\n",
              "      <td>0.000000</td>\n",
              "      <td>0.00000</td>\n",
              "      <td>0.137615</td>\n",
              "    </tr>\n",
              "    <tr>\n",
              "      <th>Kotoura-san: Haruka no Heya</th>\n",
              "      <td>0.0</td>\n",
              "      <td>0.0</td>\n",
              "      <td>0.000000</td>\n",
              "      <td>0.00000</td>\n",
              "      <td>0.796701</td>\n",
              "    </tr>\n",
              "    <tr>\n",
              "      <th>Norakuro Nitouhei: Kyouren no Maki</th>\n",
              "      <td>0.0</td>\n",
              "      <td>0.0</td>\n",
              "      <td>0.000000</td>\n",
              "      <td>0.00000</td>\n",
              "      <td>0.000000</td>\n",
              "    </tr>\n",
              "    <tr>\n",
              "      <th>Violence Gekiga Shin David no Hoshi: Inma Densetsu</th>\n",
              "      <td>1.0</td>\n",
              "      <td>0.0</td>\n",
              "      <td>0.000000</td>\n",
              "      <td>0.44672</td>\n",
              "      <td>0.000000</td>\n",
              "    </tr>\n",
              "    <tr>\n",
              "      <th>Towa no Quon 5: Souzetsu no Raifuku</th>\n",
              "      <td>0.0</td>\n",
              "      <td>0.0</td>\n",
              "      <td>0.000000</td>\n",
              "      <td>0.00000</td>\n",
              "      <td>0.000000</td>\n",
              "    </tr>\n",
              "    <tr>\n",
              "      <th>Fly</th>\n",
              "      <td>0.0</td>\n",
              "      <td>0.0</td>\n",
              "      <td>0.000000</td>\n",
              "      <td>0.00000</td>\n",
              "      <td>0.000000</td>\n",
              "    </tr>\n",
              "    <tr>\n",
              "      <th>Spectral Force</th>\n",
              "      <td>0.0</td>\n",
              "      <td>0.0</td>\n",
              "      <td>0.000000</td>\n",
              "      <td>0.00000</td>\n",
              "      <td>0.000000</td>\n",
              "    </tr>\n",
              "    <tr>\n",
              "      <th>Queen Emeraldas</th>\n",
              "      <td>0.0</td>\n",
              "      <td>0.0</td>\n",
              "      <td>0.000000</td>\n",
              "      <td>0.00000</td>\n",
              "      <td>0.000000</td>\n",
              "    </tr>\n",
              "    <tr>\n",
              "      <th>Tensai Bakabon</th>\n",
              "      <td>0.0</td>\n",
              "      <td>0.0</td>\n",
              "      <td>0.000000</td>\n",
              "      <td>0.00000</td>\n",
              "      <td>0.131892</td>\n",
              "    </tr>\n",
              "    <tr>\n",
              "      <th>Kigurumi Sentai Quiltian</th>\n",
              "      <td>1.0</td>\n",
              "      <td>0.0</td>\n",
              "      <td>0.000000</td>\n",
              "      <td>0.44672</td>\n",
              "      <td>0.000000</td>\n",
              "    </tr>\n",
              "    <tr>\n",
              "      <th>Kakegae no</th>\n",
              "      <td>0.0</td>\n",
              "      <td>0.0</td>\n",
              "      <td>0.680815</td>\n",
              "      <td>0.00000</td>\n",
              "      <td>0.000000</td>\n",
              "    </tr>\n",
              "    <tr>\n",
              "      <th>Fullmetal Alchemist: Premium Collection</th>\n",
              "      <td>0.0</td>\n",
              "      <td>0.0</td>\n",
              "      <td>0.000000</td>\n",
              "      <td>0.00000</td>\n",
              "      <td>0.579661</td>\n",
              "    </tr>\n",
              "    <tr>\n",
              "      <th>Divergence Eve 2: Misaki Chronicles</th>\n",
              "      <td>0.0</td>\n",
              "      <td>0.0</td>\n",
              "      <td>0.211048</td>\n",
              "      <td>0.00000</td>\n",
              "      <td>0.000000</td>\n",
              "    </tr>\n",
              "    <tr>\n",
              "      <th>Hoozuki no Reitetsu</th>\n",
              "      <td>0.0</td>\n",
              "      <td>0.0</td>\n",
              "      <td>0.000000</td>\n",
              "      <td>0.00000</td>\n",
              "      <td>0.165579</td>\n",
              "    </tr>\n",
              "    <tr>\n",
              "      <th>Super Robot Taisen OG: Divine Wars Special</th>\n",
              "      <td>0.0</td>\n",
              "      <td>0.0</td>\n",
              "      <td>0.000000</td>\n",
              "      <td>0.00000</td>\n",
              "      <td>0.167612</td>\n",
              "    </tr>\n",
              "    <tr>\n",
              "      <th>Aries: Shinwa no Seizakyuu</th>\n",
              "      <td>0.0</td>\n",
              "      <td>0.0</td>\n",
              "      <td>0.000000</td>\n",
              "      <td>0.00000</td>\n",
              "      <td>0.000000</td>\n",
              "    </tr>\n",
              "    <tr>\n",
              "      <th>Qin Shiming Yue Zhi: Bai Bu Fei Jian</th>\n",
              "      <td>0.0</td>\n",
              "      <td>0.0</td>\n",
              "      <td>0.000000</td>\n",
              "      <td>0.00000</td>\n",
              "      <td>0.000000</td>\n",
              "    </tr>\n",
              "    <tr>\n",
              "      <th>Kunoichi Bakumatsu Kitan</th>\n",
              "      <td>1.0</td>\n",
              "      <td>0.0</td>\n",
              "      <td>0.000000</td>\n",
              "      <td>0.44672</td>\n",
              "      <td>0.000000</td>\n",
              "    </tr>\n",
              "  </tbody>\n",
              "</table>\n",
              "</div>\n",
              "      <button class=\"colab-df-convert\" onclick=\"convertToInteractive('df-1f26a338-9dc8-4ab4-b43a-3b6b33212d23')\"\n",
              "              title=\"Convert this dataframe to an interactive table.\"\n",
              "              style=\"display:none;\">\n",
              "        \n",
              "  <svg xmlns=\"http://www.w3.org/2000/svg\" height=\"24px\"viewBox=\"0 0 24 24\"\n",
              "       width=\"24px\">\n",
              "    <path d=\"M0 0h24v24H0V0z\" fill=\"none\"/>\n",
              "    <path d=\"M18.56 5.44l.94 2.06.94-2.06 2.06-.94-2.06-.94-.94-2.06-.94 2.06-2.06.94zm-11 1L8.5 8.5l.94-2.06 2.06-.94-2.06-.94L8.5 2.5l-.94 2.06-2.06.94zm10 10l.94 2.06.94-2.06 2.06-.94-2.06-.94-.94-2.06-.94 2.06-2.06.94z\"/><path d=\"M17.41 7.96l-1.37-1.37c-.4-.4-.92-.59-1.43-.59-.52 0-1.04.2-1.43.59L10.3 9.45l-7.72 7.72c-.78.78-.78 2.05 0 2.83L4 21.41c.39.39.9.59 1.41.59.51 0 1.02-.2 1.41-.59l7.78-7.78 2.81-2.81c.8-.78.8-2.07 0-2.86zM5.41 20L4 18.59l7.72-7.72 1.47 1.35L5.41 20z\"/>\n",
              "  </svg>\n",
              "      </button>\n",
              "      \n",
              "  <style>\n",
              "    .colab-df-container {\n",
              "      display:flex;\n",
              "      flex-wrap:wrap;\n",
              "      gap: 12px;\n",
              "    }\n",
              "\n",
              "    .colab-df-convert {\n",
              "      background-color: #E8F0FE;\n",
              "      border: none;\n",
              "      border-radius: 50%;\n",
              "      cursor: pointer;\n",
              "      display: none;\n",
              "      fill: #1967D2;\n",
              "      height: 32px;\n",
              "      padding: 0 0 0 0;\n",
              "      width: 32px;\n",
              "    }\n",
              "\n",
              "    .colab-df-convert:hover {\n",
              "      background-color: #E2EBFA;\n",
              "      box-shadow: 0px 1px 2px rgba(60, 64, 67, 0.3), 0px 1px 3px 1px rgba(60, 64, 67, 0.15);\n",
              "      fill: #174EA6;\n",
              "    }\n",
              "\n",
              "    [theme=dark] .colab-df-convert {\n",
              "      background-color: #3B4455;\n",
              "      fill: #D2E3FC;\n",
              "    }\n",
              "\n",
              "    [theme=dark] .colab-df-convert:hover {\n",
              "      background-color: #434B5C;\n",
              "      box-shadow: 0px 1px 3px 1px rgba(0, 0, 0, 0.15);\n",
              "      filter: drop-shadow(0px 1px 2px rgba(0, 0, 0, 0.3));\n",
              "      fill: #FFFFFF;\n",
              "    }\n",
              "  </style>\n",
              "\n",
              "      <script>\n",
              "        const buttonEl =\n",
              "          document.querySelector('#df-1f26a338-9dc8-4ab4-b43a-3b6b33212d23 button.colab-df-convert');\n",
              "        buttonEl.style.display =\n",
              "          google.colab.kernel.accessAllowed ? 'block' : 'none';\n",
              "\n",
              "        async function convertToInteractive(key) {\n",
              "          const element = document.querySelector('#df-1f26a338-9dc8-4ab4-b43a-3b6b33212d23');\n",
              "          const dataTable =\n",
              "            await google.colab.kernel.invokeFunction('convertToInteractive',\n",
              "                                                     [key], {});\n",
              "          if (!dataTable) return;\n",
              "\n",
              "          const docLinkHtml = 'Like what you see? Visit the ' +\n",
              "            '<a target=\"_blank\" href=https://colab.research.google.com/notebooks/data_table.ipynb>data table notebook</a>'\n",
              "            + ' to learn more about interactive tables.';\n",
              "          element.innerHTML = '';\n",
              "          dataTable['output_type'] = 'display_data';\n",
              "          await google.colab.output.renderOutput(dataTable, element);\n",
              "          const docLink = document.createElement('div');\n",
              "          docLink.innerHTML = docLinkHtml;\n",
              "          element.appendChild(docLink);\n",
              "        }\n",
              "      </script>\n",
              "    </div>\n",
              "  </div>\n",
              "  "
            ]
          },
          "metadata": {},
          "execution_count": 131
        }
      ]
    },
    {
      "cell_type": "markdown",
      "source": [
        "Rekomendasi anime berdasarkan kemiripan dataframe"
      ],
      "metadata": {
        "id": "LFAh9zrAH6gD"
      }
    },
    {
      "cell_type": "code",
      "source": [
        "import tensorflow as tf\n",
        "\n",
        "def anime_recommendations(nama_anime, similarity_data=cosine_sim_df, items=df_anime[['name', 'genre']], k=5):\n",
        "    \n",
        "    index = similarity_data.loc[:,nama_anime].to_numpy().argpartition(\n",
        "        range(-1, -k, -1))\n",
        "    \n",
        "    closest = similarity_data.columns[index[-1:-(k+2):-1]]\n",
        "    \n",
        "    closest = closest.drop(nama_anime, errors='ignore')\n",
        " \n",
        "    return pd.DataFrame(closest).merge(items).head(k)"
      ],
      "metadata": {
        "id": "c92cGq6-Hxxy"
      },
      "execution_count": 132,
      "outputs": []
    },
    {
      "cell_type": "markdown",
      "source": [
        "Uji Coba"
      ],
      "metadata": {
        "id": "BJh07EmLH_iC"
      }
    },
    {
      "cell_type": "code",
      "source": [
        "df_anime[df_anime.name.eq('Boku no Hero Academia')]"
      ],
      "metadata": {
        "colab": {
          "base_uri": "https://localhost:8080/",
          "height": 81
        },
        "id": "lq1BRTxNH_3p",
        "outputId": "1ec69169-9fe9-463d-d65b-ad82dd20d07b"
      },
      "execution_count": 133,
      "outputs": [
        {
          "output_type": "execute_result",
          "data": {
            "text/plain": [
              "     anime_id                   name  \\\n",
              "178     31964  Boku no Hero Academia   \n",
              "\n",
              "                                            genre type episodes  rating  \\\n",
              "178  Action, Comedy, School, Shounen, Super Power   TV       13    8.36   \n",
              "\n",
              "     members  \n",
              "178   282002  "
            ],
            "text/html": [
              "\n",
              "  <div id=\"df-36e05cb6-05b4-478d-a3e5-06f530e03980\">\n",
              "    <div class=\"colab-df-container\">\n",
              "      <div>\n",
              "<style scoped>\n",
              "    .dataframe tbody tr th:only-of-type {\n",
              "        vertical-align: middle;\n",
              "    }\n",
              "\n",
              "    .dataframe tbody tr th {\n",
              "        vertical-align: top;\n",
              "    }\n",
              "\n",
              "    .dataframe thead th {\n",
              "        text-align: right;\n",
              "    }\n",
              "</style>\n",
              "<table border=\"1\" class=\"dataframe\">\n",
              "  <thead>\n",
              "    <tr style=\"text-align: right;\">\n",
              "      <th></th>\n",
              "      <th>anime_id</th>\n",
              "      <th>name</th>\n",
              "      <th>genre</th>\n",
              "      <th>type</th>\n",
              "      <th>episodes</th>\n",
              "      <th>rating</th>\n",
              "      <th>members</th>\n",
              "    </tr>\n",
              "  </thead>\n",
              "  <tbody>\n",
              "    <tr>\n",
              "      <th>178</th>\n",
              "      <td>31964</td>\n",
              "      <td>Boku no Hero Academia</td>\n",
              "      <td>Action, Comedy, School, Shounen, Super Power</td>\n",
              "      <td>TV</td>\n",
              "      <td>13</td>\n",
              "      <td>8.36</td>\n",
              "      <td>282002</td>\n",
              "    </tr>\n",
              "  </tbody>\n",
              "</table>\n",
              "</div>\n",
              "      <button class=\"colab-df-convert\" onclick=\"convertToInteractive('df-36e05cb6-05b4-478d-a3e5-06f530e03980')\"\n",
              "              title=\"Convert this dataframe to an interactive table.\"\n",
              "              style=\"display:none;\">\n",
              "        \n",
              "  <svg xmlns=\"http://www.w3.org/2000/svg\" height=\"24px\"viewBox=\"0 0 24 24\"\n",
              "       width=\"24px\">\n",
              "    <path d=\"M0 0h24v24H0V0z\" fill=\"none\"/>\n",
              "    <path d=\"M18.56 5.44l.94 2.06.94-2.06 2.06-.94-2.06-.94-.94-2.06-.94 2.06-2.06.94zm-11 1L8.5 8.5l.94-2.06 2.06-.94-2.06-.94L8.5 2.5l-.94 2.06-2.06.94zm10 10l.94 2.06.94-2.06 2.06-.94-2.06-.94-.94-2.06-.94 2.06-2.06.94z\"/><path d=\"M17.41 7.96l-1.37-1.37c-.4-.4-.92-.59-1.43-.59-.52 0-1.04.2-1.43.59L10.3 9.45l-7.72 7.72c-.78.78-.78 2.05 0 2.83L4 21.41c.39.39.9.59 1.41.59.51 0 1.02-.2 1.41-.59l7.78-7.78 2.81-2.81c.8-.78.8-2.07 0-2.86zM5.41 20L4 18.59l7.72-7.72 1.47 1.35L5.41 20z\"/>\n",
              "  </svg>\n",
              "      </button>\n",
              "      \n",
              "  <style>\n",
              "    .colab-df-container {\n",
              "      display:flex;\n",
              "      flex-wrap:wrap;\n",
              "      gap: 12px;\n",
              "    }\n",
              "\n",
              "    .colab-df-convert {\n",
              "      background-color: #E8F0FE;\n",
              "      border: none;\n",
              "      border-radius: 50%;\n",
              "      cursor: pointer;\n",
              "      display: none;\n",
              "      fill: #1967D2;\n",
              "      height: 32px;\n",
              "      padding: 0 0 0 0;\n",
              "      width: 32px;\n",
              "    }\n",
              "\n",
              "    .colab-df-convert:hover {\n",
              "      background-color: #E2EBFA;\n",
              "      box-shadow: 0px 1px 2px rgba(60, 64, 67, 0.3), 0px 1px 3px 1px rgba(60, 64, 67, 0.15);\n",
              "      fill: #174EA6;\n",
              "    }\n",
              "\n",
              "    [theme=dark] .colab-df-convert {\n",
              "      background-color: #3B4455;\n",
              "      fill: #D2E3FC;\n",
              "    }\n",
              "\n",
              "    [theme=dark] .colab-df-convert:hover {\n",
              "      background-color: #434B5C;\n",
              "      box-shadow: 0px 1px 3px 1px rgba(0, 0, 0, 0.15);\n",
              "      filter: drop-shadow(0px 1px 2px rgba(0, 0, 0, 0.3));\n",
              "      fill: #FFFFFF;\n",
              "    }\n",
              "  </style>\n",
              "\n",
              "      <script>\n",
              "        const buttonEl =\n",
              "          document.querySelector('#df-36e05cb6-05b4-478d-a3e5-06f530e03980 button.colab-df-convert');\n",
              "        buttonEl.style.display =\n",
              "          google.colab.kernel.accessAllowed ? 'block' : 'none';\n",
              "\n",
              "        async function convertToInteractive(key) {\n",
              "          const element = document.querySelector('#df-36e05cb6-05b4-478d-a3e5-06f530e03980');\n",
              "          const dataTable =\n",
              "            await google.colab.kernel.invokeFunction('convertToInteractive',\n",
              "                                                     [key], {});\n",
              "          if (!dataTable) return;\n",
              "\n",
              "          const docLinkHtml = 'Like what you see? Visit the ' +\n",
              "            '<a target=\"_blank\" href=https://colab.research.google.com/notebooks/data_table.ipynb>data table notebook</a>'\n",
              "            + ' to learn more about interactive tables.';\n",
              "          element.innerHTML = '';\n",
              "          dataTable['output_type'] = 'display_data';\n",
              "          await google.colab.output.renderOutput(dataTable, element);\n",
              "          const docLink = document.createElement('div');\n",
              "          docLink.innerHTML = docLinkHtml;\n",
              "          element.appendChild(docLink);\n",
              "        }\n",
              "      </script>\n",
              "    </div>\n",
              "  </div>\n",
              "  "
            ]
          },
          "metadata": {},
          "execution_count": 133
        }
      ]
    },
    {
      "cell_type": "markdown",
      "source": [
        "hasil uji coba"
      ],
      "metadata": {
        "id": "oK7LqV5xILZu"
      }
    },
    {
      "cell_type": "code",
      "source": [
        "result = anime_recommendations('Boku no Hero Academia')\n",
        "result"
      ],
      "metadata": {
        "colab": {
          "base_uri": "https://localhost:8080/",
          "height": 206
        },
        "id": "PSjoNuHsIKkc",
        "outputId": "0b42e1a3-97d5-4507-afe6-efb1e90658e5"
      },
      "execution_count": 134,
      "outputs": [
        {
          "output_type": "execute_result",
          "data": {
            "text/plain": [
              "                                             name  \\\n",
              "0  Boku no Hero Academia: Jump Festa 2016 Special   \n",
              "1                                    Kill la Kill   \n",
              "2                            Kill la Kill Special   \n",
              "3                                    Code:Breaker   \n",
              "4                          Katekyo Hitman Reborn!   \n",
              "\n",
              "                                               genre  \n",
              "0       Action, Comedy, School, Shounen, Super Power  \n",
              "1                Action, Comedy, School, Super Power  \n",
              "2                Action, Comedy, School, Super Power  \n",
              "3  Action, Comedy, School, Shounen, Super Power, ...  \n",
              "4               Action, Comedy, Shounen, Super Power  "
            ],
            "text/html": [
              "\n",
              "  <div id=\"df-0b203305-4e83-4740-9336-9da7f33ba285\">\n",
              "    <div class=\"colab-df-container\">\n",
              "      <div>\n",
              "<style scoped>\n",
              "    .dataframe tbody tr th:only-of-type {\n",
              "        vertical-align: middle;\n",
              "    }\n",
              "\n",
              "    .dataframe tbody tr th {\n",
              "        vertical-align: top;\n",
              "    }\n",
              "\n",
              "    .dataframe thead th {\n",
              "        text-align: right;\n",
              "    }\n",
              "</style>\n",
              "<table border=\"1\" class=\"dataframe\">\n",
              "  <thead>\n",
              "    <tr style=\"text-align: right;\">\n",
              "      <th></th>\n",
              "      <th>name</th>\n",
              "      <th>genre</th>\n",
              "    </tr>\n",
              "  </thead>\n",
              "  <tbody>\n",
              "    <tr>\n",
              "      <th>0</th>\n",
              "      <td>Boku no Hero Academia: Jump Festa 2016 Special</td>\n",
              "      <td>Action, Comedy, School, Shounen, Super Power</td>\n",
              "    </tr>\n",
              "    <tr>\n",
              "      <th>1</th>\n",
              "      <td>Kill la Kill</td>\n",
              "      <td>Action, Comedy, School, Super Power</td>\n",
              "    </tr>\n",
              "    <tr>\n",
              "      <th>2</th>\n",
              "      <td>Kill la Kill Special</td>\n",
              "      <td>Action, Comedy, School, Super Power</td>\n",
              "    </tr>\n",
              "    <tr>\n",
              "      <th>3</th>\n",
              "      <td>Code:Breaker</td>\n",
              "      <td>Action, Comedy, School, Shounen, Super Power, ...</td>\n",
              "    </tr>\n",
              "    <tr>\n",
              "      <th>4</th>\n",
              "      <td>Katekyo Hitman Reborn!</td>\n",
              "      <td>Action, Comedy, Shounen, Super Power</td>\n",
              "    </tr>\n",
              "  </tbody>\n",
              "</table>\n",
              "</div>\n",
              "      <button class=\"colab-df-convert\" onclick=\"convertToInteractive('df-0b203305-4e83-4740-9336-9da7f33ba285')\"\n",
              "              title=\"Convert this dataframe to an interactive table.\"\n",
              "              style=\"display:none;\">\n",
              "        \n",
              "  <svg xmlns=\"http://www.w3.org/2000/svg\" height=\"24px\"viewBox=\"0 0 24 24\"\n",
              "       width=\"24px\">\n",
              "    <path d=\"M0 0h24v24H0V0z\" fill=\"none\"/>\n",
              "    <path d=\"M18.56 5.44l.94 2.06.94-2.06 2.06-.94-2.06-.94-.94-2.06-.94 2.06-2.06.94zm-11 1L8.5 8.5l.94-2.06 2.06-.94-2.06-.94L8.5 2.5l-.94 2.06-2.06.94zm10 10l.94 2.06.94-2.06 2.06-.94-2.06-.94-.94-2.06-.94 2.06-2.06.94z\"/><path d=\"M17.41 7.96l-1.37-1.37c-.4-.4-.92-.59-1.43-.59-.52 0-1.04.2-1.43.59L10.3 9.45l-7.72 7.72c-.78.78-.78 2.05 0 2.83L4 21.41c.39.39.9.59 1.41.59.51 0 1.02-.2 1.41-.59l7.78-7.78 2.81-2.81c.8-.78.8-2.07 0-2.86zM5.41 20L4 18.59l7.72-7.72 1.47 1.35L5.41 20z\"/>\n",
              "  </svg>\n",
              "      </button>\n",
              "      \n",
              "  <style>\n",
              "    .colab-df-container {\n",
              "      display:flex;\n",
              "      flex-wrap:wrap;\n",
              "      gap: 12px;\n",
              "    }\n",
              "\n",
              "    .colab-df-convert {\n",
              "      background-color: #E8F0FE;\n",
              "      border: none;\n",
              "      border-radius: 50%;\n",
              "      cursor: pointer;\n",
              "      display: none;\n",
              "      fill: #1967D2;\n",
              "      height: 32px;\n",
              "      padding: 0 0 0 0;\n",
              "      width: 32px;\n",
              "    }\n",
              "\n",
              "    .colab-df-convert:hover {\n",
              "      background-color: #E2EBFA;\n",
              "      box-shadow: 0px 1px 2px rgba(60, 64, 67, 0.3), 0px 1px 3px 1px rgba(60, 64, 67, 0.15);\n",
              "      fill: #174EA6;\n",
              "    }\n",
              "\n",
              "    [theme=dark] .colab-df-convert {\n",
              "      background-color: #3B4455;\n",
              "      fill: #D2E3FC;\n",
              "    }\n",
              "\n",
              "    [theme=dark] .colab-df-convert:hover {\n",
              "      background-color: #434B5C;\n",
              "      box-shadow: 0px 1px 3px 1px rgba(0, 0, 0, 0.15);\n",
              "      filter: drop-shadow(0px 1px 2px rgba(0, 0, 0, 0.3));\n",
              "      fill: #FFFFFF;\n",
              "    }\n",
              "  </style>\n",
              "\n",
              "      <script>\n",
              "        const buttonEl =\n",
              "          document.querySelector('#df-0b203305-4e83-4740-9336-9da7f33ba285 button.colab-df-convert');\n",
              "        buttonEl.style.display =\n",
              "          google.colab.kernel.accessAllowed ? 'block' : 'none';\n",
              "\n",
              "        async function convertToInteractive(key) {\n",
              "          const element = document.querySelector('#df-0b203305-4e83-4740-9336-9da7f33ba285');\n",
              "          const dataTable =\n",
              "            await google.colab.kernel.invokeFunction('convertToInteractive',\n",
              "                                                     [key], {});\n",
              "          if (!dataTable) return;\n",
              "\n",
              "          const docLinkHtml = 'Like what you see? Visit the ' +\n",
              "            '<a target=\"_blank\" href=https://colab.research.google.com/notebooks/data_table.ipynb>data table notebook</a>'\n",
              "            + ' to learn more about interactive tables.';\n",
              "          element.innerHTML = '';\n",
              "          dataTable['output_type'] = 'display_data';\n",
              "          await google.colab.output.renderOutput(dataTable, element);\n",
              "          const docLink = document.createElement('div');\n",
              "          docLink.innerHTML = docLinkHtml;\n",
              "          element.appendChild(docLink);\n",
              "        }\n",
              "      </script>\n",
              "    </div>\n",
              "  </div>\n",
              "  "
            ]
          },
          "metadata": {},
          "execution_count": 134
        }
      ]
    },
    {
      "cell_type": "markdown",
      "source": [
        "presisi darin model yang dibuat"
      ],
      "metadata": {
        "id": "sBgrnF5zKzsn"
      }
    },
    {
      "cell_type": "code",
      "source": [
        "a = 0\n",
        "\n",
        "for row in result.itertuples():\n",
        "  if (row.genre == 'Action', 'Comedy', 'School', 'Shounen', 'Super Power'):\n",
        "    a += 1\n",
        "\n",
        "precision = (a/5)*100\n",
        "print(\"presisi darin model yang dibuat {}%\".format(precision))"
      ],
      "metadata": {
        "colab": {
          "base_uri": "https://localhost:8080/"
        },
        "id": "ApHI9sYcIdLE",
        "outputId": "b3413130-0fc2-4745-bb72-d01ab8b72890"
      },
      "execution_count": 135,
      "outputs": [
        {
          "output_type": "stream",
          "name": "stdout",
          "text": [
            "presisi darin model yang dibuat 100.0%\n"
          ]
        }
      ]
    },
    {
      "cell_type": "markdown",
      "source": [
        "# Collaborative Based Filtering"
      ],
      "metadata": {
        "id": "mViKGnrHK2ZV"
      }
    },
    {
      "cell_type": "markdown",
      "source": [
        "membuat dataset baru"
      ],
      "metadata": {
        "id": "P0ZTFxoeLMgt"
      }
    },
    {
      "cell_type": "code",
      "source": [
        "df = df_rating"
      ],
      "metadata": {
        "id": "IjPR_vhTKle7"
      },
      "execution_count": 136,
      "outputs": []
    },
    {
      "cell_type": "markdown",
      "source": [
        "Encoding"
      ],
      "metadata": {
        "id": "UlFxHXzvLSug"
      }
    },
    {
      "cell_type": "code",
      "source": [
        "user_ids = df['user_id'].unique().tolist()\n",
        "print('list user_id: ', user_ids)\n",
        "\n",
        "user_to_user_encoded = {x: i for i, x in enumerate(user_ids)}\n",
        "print('encoded user_id : ', user_to_user_encoded)\n",
        "\n",
        "user_encoded_to_user = {i: x for i, x in enumerate(user_ids)}\n",
        "print('encoded angka ke user_id: ', user_encoded_to_user)"
      ],
      "metadata": {
        "colab": {
          "base_uri": "https://localhost:8080/"
        },
        "id": "yEtGNxqCLIBc",
        "outputId": "31a49d93-1fbe-4d74-b034-c2d92375e60a"
      },
      "execution_count": 137,
      "outputs": [
        {
          "output_type": "stream",
          "name": "stdout",
          "text": [
            "list user_id:  [1, 2, 3, 5, 7, 8, 9, 10, 11, 12, 14, 15, 16, 17, 18, 19, 20, 21, 22, 23, 24, 25, 26, 27, 28, 29, 30, 31, 32, 33, 34, 35, 36, 37, 38, 39, 40, 41, 42, 43, 44, 45, 46, 47, 48, 50, 51, 52, 53, 55, 56, 57, 58, 59, 60, 61, 62, 63, 64, 65, 66, 67, 68, 69, 70, 71, 72, 73, 74, 75, 76, 77, 78, 79, 80, 81, 82, 83, 84, 85, 86, 87, 88, 90, 91, 92, 93, 94, 95, 96, 97, 98, 99, 100, 101, 102, 103, 104, 105, 106, 107, 108, 109, 110, 111, 112, 113, 114, 115, 116, 117, 118, 119, 120, 121, 122, 123, 124, 125, 126, 127, 128, 129, 130, 131, 132, 134, 135, 136, 137, 138, 139, 140, 141, 142, 143, 144, 145, 146, 147, 148, 149, 150, 152, 153, 154, 155, 156, 158, 159, 160, 161, 162, 163, 164, 165, 166, 167, 168, 169, 170, 171, 172, 173, 174, 175, 176, 177, 178, 179, 180, 181, 182, 183, 184, 185, 186, 187, 189, 190, 191, 192, 193, 194, 195, 196, 197, 198, 199, 200, 201, 202, 203, 204, 205, 206, 207, 208, 209, 210, 211, 212, 213, 214, 215, 216, 217, 218, 219, 220, 222, 223, 224, 225, 226, 227, 228, 229, 230, 231, 232, 233, 234, 235, 236, 238, 239, 241, 242, 243, 244, 245, 246, 247]\n",
            "encoded user_id :  {1: 0, 2: 1, 3: 2, 5: 3, 7: 4, 8: 5, 9: 6, 10: 7, 11: 8, 12: 9, 14: 10, 15: 11, 16: 12, 17: 13, 18: 14, 19: 15, 20: 16, 21: 17, 22: 18, 23: 19, 24: 20, 25: 21, 26: 22, 27: 23, 28: 24, 29: 25, 30: 26, 31: 27, 32: 28, 33: 29, 34: 30, 35: 31, 36: 32, 37: 33, 38: 34, 39: 35, 40: 36, 41: 37, 42: 38, 43: 39, 44: 40, 45: 41, 46: 42, 47: 43, 48: 44, 50: 45, 51: 46, 52: 47, 53: 48, 55: 49, 56: 50, 57: 51, 58: 52, 59: 53, 60: 54, 61: 55, 62: 56, 63: 57, 64: 58, 65: 59, 66: 60, 67: 61, 68: 62, 69: 63, 70: 64, 71: 65, 72: 66, 73: 67, 74: 68, 75: 69, 76: 70, 77: 71, 78: 72, 79: 73, 80: 74, 81: 75, 82: 76, 83: 77, 84: 78, 85: 79, 86: 80, 87: 81, 88: 82, 90: 83, 91: 84, 92: 85, 93: 86, 94: 87, 95: 88, 96: 89, 97: 90, 98: 91, 99: 92, 100: 93, 101: 94, 102: 95, 103: 96, 104: 97, 105: 98, 106: 99, 107: 100, 108: 101, 109: 102, 110: 103, 111: 104, 112: 105, 113: 106, 114: 107, 115: 108, 116: 109, 117: 110, 118: 111, 119: 112, 120: 113, 121: 114, 122: 115, 123: 116, 124: 117, 125: 118, 126: 119, 127: 120, 128: 121, 129: 122, 130: 123, 131: 124, 132: 125, 134: 126, 135: 127, 136: 128, 137: 129, 138: 130, 139: 131, 140: 132, 141: 133, 142: 134, 143: 135, 144: 136, 145: 137, 146: 138, 147: 139, 148: 140, 149: 141, 150: 142, 152: 143, 153: 144, 154: 145, 155: 146, 156: 147, 158: 148, 159: 149, 160: 150, 161: 151, 162: 152, 163: 153, 164: 154, 165: 155, 166: 156, 167: 157, 168: 158, 169: 159, 170: 160, 171: 161, 172: 162, 173: 163, 174: 164, 175: 165, 176: 166, 177: 167, 178: 168, 179: 169, 180: 170, 181: 171, 182: 172, 183: 173, 184: 174, 185: 175, 186: 176, 187: 177, 189: 178, 190: 179, 191: 180, 192: 181, 193: 182, 194: 183, 195: 184, 196: 185, 197: 186, 198: 187, 199: 188, 200: 189, 201: 190, 202: 191, 203: 192, 204: 193, 205: 194, 206: 195, 207: 196, 208: 197, 209: 198, 210: 199, 211: 200, 212: 201, 213: 202, 214: 203, 215: 204, 216: 205, 217: 206, 218: 207, 219: 208, 220: 209, 222: 210, 223: 211, 224: 212, 225: 213, 226: 214, 227: 215, 228: 216, 229: 217, 230: 218, 231: 219, 232: 220, 233: 221, 234: 222, 235: 223, 236: 224, 238: 225, 239: 226, 241: 227, 242: 228, 243: 229, 244: 230, 245: 231, 246: 232, 247: 233}\n",
            "encoded angka ke user_id:  {0: 1, 1: 2, 2: 3, 3: 5, 4: 7, 5: 8, 6: 9, 7: 10, 8: 11, 9: 12, 10: 14, 11: 15, 12: 16, 13: 17, 14: 18, 15: 19, 16: 20, 17: 21, 18: 22, 19: 23, 20: 24, 21: 25, 22: 26, 23: 27, 24: 28, 25: 29, 26: 30, 27: 31, 28: 32, 29: 33, 30: 34, 31: 35, 32: 36, 33: 37, 34: 38, 35: 39, 36: 40, 37: 41, 38: 42, 39: 43, 40: 44, 41: 45, 42: 46, 43: 47, 44: 48, 45: 50, 46: 51, 47: 52, 48: 53, 49: 55, 50: 56, 51: 57, 52: 58, 53: 59, 54: 60, 55: 61, 56: 62, 57: 63, 58: 64, 59: 65, 60: 66, 61: 67, 62: 68, 63: 69, 64: 70, 65: 71, 66: 72, 67: 73, 68: 74, 69: 75, 70: 76, 71: 77, 72: 78, 73: 79, 74: 80, 75: 81, 76: 82, 77: 83, 78: 84, 79: 85, 80: 86, 81: 87, 82: 88, 83: 90, 84: 91, 85: 92, 86: 93, 87: 94, 88: 95, 89: 96, 90: 97, 91: 98, 92: 99, 93: 100, 94: 101, 95: 102, 96: 103, 97: 104, 98: 105, 99: 106, 100: 107, 101: 108, 102: 109, 103: 110, 104: 111, 105: 112, 106: 113, 107: 114, 108: 115, 109: 116, 110: 117, 111: 118, 112: 119, 113: 120, 114: 121, 115: 122, 116: 123, 117: 124, 118: 125, 119: 126, 120: 127, 121: 128, 122: 129, 123: 130, 124: 131, 125: 132, 126: 134, 127: 135, 128: 136, 129: 137, 130: 138, 131: 139, 132: 140, 133: 141, 134: 142, 135: 143, 136: 144, 137: 145, 138: 146, 139: 147, 140: 148, 141: 149, 142: 150, 143: 152, 144: 153, 145: 154, 146: 155, 147: 156, 148: 158, 149: 159, 150: 160, 151: 161, 152: 162, 153: 163, 154: 164, 155: 165, 156: 166, 157: 167, 158: 168, 159: 169, 160: 170, 161: 171, 162: 172, 163: 173, 164: 174, 165: 175, 166: 176, 167: 177, 168: 178, 169: 179, 170: 180, 171: 181, 172: 182, 173: 183, 174: 184, 175: 185, 176: 186, 177: 187, 178: 189, 179: 190, 180: 191, 181: 192, 182: 193, 183: 194, 184: 195, 185: 196, 186: 197, 187: 198, 188: 199, 189: 200, 190: 201, 191: 202, 192: 203, 193: 204, 194: 205, 195: 206, 196: 207, 197: 208, 198: 209, 199: 210, 200: 211, 201: 212, 202: 213, 203: 214, 204: 215, 205: 216, 206: 217, 207: 218, 208: 219, 209: 220, 210: 222, 211: 223, 212: 224, 213: 225, 214: 226, 215: 227, 216: 228, 217: 229, 218: 230, 219: 231, 220: 232, 221: 233, 222: 234, 223: 235, 224: 236, 225: 238, 226: 239, 227: 241, 228: 242, 229: 243, 230: 244, 231: 245, 232: 246, 233: 247}\n"
          ]
        }
      ]
    },
    {
      "cell_type": "markdown",
      "source": [
        "* Mengubah anime_id menjadi list tanpa nilai yang sama\n",
        "* Melakukan proses encoding anime_id\n",
        "* Melakukan proses encoding angka ke anime_id"
      ],
      "metadata": {
        "id": "n5IgBcHrL6LY"
      }
    },
    {
      "cell_type": "code",
      "source": [
        "anime_ids = df['anime_id'].unique().tolist()\n",
        "\n",
        "anime_to_anime_encoded = {x: i for i, x in enumerate(anime_ids)}\n",
        "\n",
        "anime_encoded_to_anime = {i: x for i, x in enumerate(anime_ids)}"
      ],
      "metadata": {
        "id": "yqtiWiCDLl5t"
      },
      "execution_count": 138,
      "outputs": []
    },
    {
      "cell_type": "markdown",
      "source": [
        "Mapping user_id dan anime_id kedalam dataframe user dan anime "
      ],
      "metadata": {
        "id": "uSJ1Afa3MMVQ"
      }
    },
    {
      "cell_type": "code",
      "source": [
        "df['user'] = df['user_id'].map(user_to_user_encoded)\n",
        "\n",
        "df['anime'] = df['anime_id'].map(anime_to_anime_encoded)"
      ],
      "metadata": {
        "colab": {
          "base_uri": "https://localhost:8080/"
        },
        "id": "nZvnoMkTMNfu",
        "outputId": "4008389a-7467-4080-9dee-515d011b4385"
      },
      "execution_count": 139,
      "outputs": [
        {
          "output_type": "stream",
          "name": "stderr",
          "text": [
            "/usr/local/lib/python3.7/dist-packages/ipykernel_launcher.py:1: SettingWithCopyWarning: \n",
            "A value is trying to be set on a copy of a slice from a DataFrame.\n",
            "Try using .loc[row_indexer,col_indexer] = value instead\n",
            "\n",
            "See the caveats in the documentation: https://pandas.pydata.org/pandas-docs/stable/user_guide/indexing.html#returning-a-view-versus-a-copy\n",
            "  \"\"\"Entry point for launching an IPython kernel.\n",
            "/usr/local/lib/python3.7/dist-packages/ipykernel_launcher.py:3: SettingWithCopyWarning: \n",
            "A value is trying to be set on a copy of a slice from a DataFrame.\n",
            "Try using .loc[row_indexer,col_indexer] = value instead\n",
            "\n",
            "See the caveats in the documentation: https://pandas.pydata.org/pandas-docs/stable/user_guide/indexing.html#returning-a-view-versus-a-copy\n",
            "  This is separate from the ipykernel package so we can avoid doing imports until\n"
          ]
        }
      ]
    },
    {
      "cell_type": "markdown",
      "source": [
        "\n",
        "\n",
        "*   Mendapatkan jumlah user\n",
        "*   Mendapatkan jumlah rating\n",
        "*   Mengubah rating menjadi nilai float\n",
        "* melihat Nilai minimum rating\n",
        "* melihat Nilai maksimal rating\n",
        "\n"
      ],
      "metadata": {
        "id": "SqKbGAoBMur3"
      }
    },
    {
      "cell_type": "code",
      "source": [
        "num_users = len(user_to_user_encoded)\n",
        "print(num_users)\n",
        "\n",
        "num_anime = len(anime_encoded_to_anime)\n",
        "print(num_anime)\n",
        "\n",
        "min_rating = min(df['rating'])\n",
        "\n",
        "max_rating = max(df['rating'])\n",
        " \n",
        "print('Number of User: {}, Number of Anime: {}, Min Rating: {}, Max Rating: {}'.format(\n",
        "    num_users, num_anime, min_rating, max_rating\n",
        "))"
      ],
      "metadata": {
        "colab": {
          "base_uri": "https://localhost:8080/"
        },
        "id": "eefGI7y0Msq3",
        "outputId": "c740a363-784d-43ee-e807-c92ad60003bf"
      },
      "execution_count": 140,
      "outputs": [
        {
          "output_type": "stream",
          "name": "stdout",
          "text": [
            "234\n",
            "2666\n",
            "Number of User: 234, Number of Anime: 2666, Min Rating: 1.0, Max Rating: 10.0\n"
          ]
        }
      ]
    },
    {
      "cell_type": "markdown",
      "source": [
        " Mengacak dataset"
      ],
      "metadata": {
        "id": "JeIuWK0INJar"
      }
    },
    {
      "cell_type": "code",
      "source": [
        "df = df.sample(frac=1, random_state=42)\n",
        "df"
      ],
      "metadata": {
        "colab": {
          "base_uri": "https://localhost:8080/",
          "height": 424
        },
        "id": "jEHcjNl8NF9G",
        "outputId": "670750ce-a864-4815-b0ff-91b94529cba1"
      },
      "execution_count": 141,
      "outputs": [
        {
          "output_type": "execute_result",
          "data": {
            "text/plain": [
              "       user_id  anime_id  rating  user  anime\n",
              "19989      247      2559     7.0   233   2659\n",
              "13867      177     21085    10.0   167    458\n",
              "355          5       392     7.0     3    143\n",
              "2315        21       572     9.0    17    746\n",
              "9705       123     10418     7.0   116   1061\n",
              "...        ...       ...     ...   ...    ...\n",
              "17133      219     10620    10.0   208    584\n",
              "7370        84       908     9.0    78   1561\n",
              "1110         7     30365     7.0     4    677\n",
              "19806      245     25099     8.0   231   1339\n",
              "9477       122      2001     9.0   115    870\n",
              "\n",
              "[15988 rows x 5 columns]"
            ],
            "text/html": [
              "\n",
              "  <div id=\"df-5d0e6991-cc75-4c13-a8f8-299567942b1a\">\n",
              "    <div class=\"colab-df-container\">\n",
              "      <div>\n",
              "<style scoped>\n",
              "    .dataframe tbody tr th:only-of-type {\n",
              "        vertical-align: middle;\n",
              "    }\n",
              "\n",
              "    .dataframe tbody tr th {\n",
              "        vertical-align: top;\n",
              "    }\n",
              "\n",
              "    .dataframe thead th {\n",
              "        text-align: right;\n",
              "    }\n",
              "</style>\n",
              "<table border=\"1\" class=\"dataframe\">\n",
              "  <thead>\n",
              "    <tr style=\"text-align: right;\">\n",
              "      <th></th>\n",
              "      <th>user_id</th>\n",
              "      <th>anime_id</th>\n",
              "      <th>rating</th>\n",
              "      <th>user</th>\n",
              "      <th>anime</th>\n",
              "    </tr>\n",
              "  </thead>\n",
              "  <tbody>\n",
              "    <tr>\n",
              "      <th>19989</th>\n",
              "      <td>247</td>\n",
              "      <td>2559</td>\n",
              "      <td>7.0</td>\n",
              "      <td>233</td>\n",
              "      <td>2659</td>\n",
              "    </tr>\n",
              "    <tr>\n",
              "      <th>13867</th>\n",
              "      <td>177</td>\n",
              "      <td>21085</td>\n",
              "      <td>10.0</td>\n",
              "      <td>167</td>\n",
              "      <td>458</td>\n",
              "    </tr>\n",
              "    <tr>\n",
              "      <th>355</th>\n",
              "      <td>5</td>\n",
              "      <td>392</td>\n",
              "      <td>7.0</td>\n",
              "      <td>3</td>\n",
              "      <td>143</td>\n",
              "    </tr>\n",
              "    <tr>\n",
              "      <th>2315</th>\n",
              "      <td>21</td>\n",
              "      <td>572</td>\n",
              "      <td>9.0</td>\n",
              "      <td>17</td>\n",
              "      <td>746</td>\n",
              "    </tr>\n",
              "    <tr>\n",
              "      <th>9705</th>\n",
              "      <td>123</td>\n",
              "      <td>10418</td>\n",
              "      <td>7.0</td>\n",
              "      <td>116</td>\n",
              "      <td>1061</td>\n",
              "    </tr>\n",
              "    <tr>\n",
              "      <th>...</th>\n",
              "      <td>...</td>\n",
              "      <td>...</td>\n",
              "      <td>...</td>\n",
              "      <td>...</td>\n",
              "      <td>...</td>\n",
              "    </tr>\n",
              "    <tr>\n",
              "      <th>17133</th>\n",
              "      <td>219</td>\n",
              "      <td>10620</td>\n",
              "      <td>10.0</td>\n",
              "      <td>208</td>\n",
              "      <td>584</td>\n",
              "    </tr>\n",
              "    <tr>\n",
              "      <th>7370</th>\n",
              "      <td>84</td>\n",
              "      <td>908</td>\n",
              "      <td>9.0</td>\n",
              "      <td>78</td>\n",
              "      <td>1561</td>\n",
              "    </tr>\n",
              "    <tr>\n",
              "      <th>1110</th>\n",
              "      <td>7</td>\n",
              "      <td>30365</td>\n",
              "      <td>7.0</td>\n",
              "      <td>4</td>\n",
              "      <td>677</td>\n",
              "    </tr>\n",
              "    <tr>\n",
              "      <th>19806</th>\n",
              "      <td>245</td>\n",
              "      <td>25099</td>\n",
              "      <td>8.0</td>\n",
              "      <td>231</td>\n",
              "      <td>1339</td>\n",
              "    </tr>\n",
              "    <tr>\n",
              "      <th>9477</th>\n",
              "      <td>122</td>\n",
              "      <td>2001</td>\n",
              "      <td>9.0</td>\n",
              "      <td>115</td>\n",
              "      <td>870</td>\n",
              "    </tr>\n",
              "  </tbody>\n",
              "</table>\n",
              "<p>15988 rows × 5 columns</p>\n",
              "</div>\n",
              "      <button class=\"colab-df-convert\" onclick=\"convertToInteractive('df-5d0e6991-cc75-4c13-a8f8-299567942b1a')\"\n",
              "              title=\"Convert this dataframe to an interactive table.\"\n",
              "              style=\"display:none;\">\n",
              "        \n",
              "  <svg xmlns=\"http://www.w3.org/2000/svg\" height=\"24px\"viewBox=\"0 0 24 24\"\n",
              "       width=\"24px\">\n",
              "    <path d=\"M0 0h24v24H0V0z\" fill=\"none\"/>\n",
              "    <path d=\"M18.56 5.44l.94 2.06.94-2.06 2.06-.94-2.06-.94-.94-2.06-.94 2.06-2.06.94zm-11 1L8.5 8.5l.94-2.06 2.06-.94-2.06-.94L8.5 2.5l-.94 2.06-2.06.94zm10 10l.94 2.06.94-2.06 2.06-.94-2.06-.94-.94-2.06-.94 2.06-2.06.94z\"/><path d=\"M17.41 7.96l-1.37-1.37c-.4-.4-.92-.59-1.43-.59-.52 0-1.04.2-1.43.59L10.3 9.45l-7.72 7.72c-.78.78-.78 2.05 0 2.83L4 21.41c.39.39.9.59 1.41.59.51 0 1.02-.2 1.41-.59l7.78-7.78 2.81-2.81c.8-.78.8-2.07 0-2.86zM5.41 20L4 18.59l7.72-7.72 1.47 1.35L5.41 20z\"/>\n",
              "  </svg>\n",
              "      </button>\n",
              "      \n",
              "  <style>\n",
              "    .colab-df-container {\n",
              "      display:flex;\n",
              "      flex-wrap:wrap;\n",
              "      gap: 12px;\n",
              "    }\n",
              "\n",
              "    .colab-df-convert {\n",
              "      background-color: #E8F0FE;\n",
              "      border: none;\n",
              "      border-radius: 50%;\n",
              "      cursor: pointer;\n",
              "      display: none;\n",
              "      fill: #1967D2;\n",
              "      height: 32px;\n",
              "      padding: 0 0 0 0;\n",
              "      width: 32px;\n",
              "    }\n",
              "\n",
              "    .colab-df-convert:hover {\n",
              "      background-color: #E2EBFA;\n",
              "      box-shadow: 0px 1px 2px rgba(60, 64, 67, 0.3), 0px 1px 3px 1px rgba(60, 64, 67, 0.15);\n",
              "      fill: #174EA6;\n",
              "    }\n",
              "\n",
              "    [theme=dark] .colab-df-convert {\n",
              "      background-color: #3B4455;\n",
              "      fill: #D2E3FC;\n",
              "    }\n",
              "\n",
              "    [theme=dark] .colab-df-convert:hover {\n",
              "      background-color: #434B5C;\n",
              "      box-shadow: 0px 1px 3px 1px rgba(0, 0, 0, 0.15);\n",
              "      filter: drop-shadow(0px 1px 2px rgba(0, 0, 0, 0.3));\n",
              "      fill: #FFFFFF;\n",
              "    }\n",
              "  </style>\n",
              "\n",
              "      <script>\n",
              "        const buttonEl =\n",
              "          document.querySelector('#df-5d0e6991-cc75-4c13-a8f8-299567942b1a button.colab-df-convert');\n",
              "        buttonEl.style.display =\n",
              "          google.colab.kernel.accessAllowed ? 'block' : 'none';\n",
              "\n",
              "        async function convertToInteractive(key) {\n",
              "          const element = document.querySelector('#df-5d0e6991-cc75-4c13-a8f8-299567942b1a');\n",
              "          const dataTable =\n",
              "            await google.colab.kernel.invokeFunction('convertToInteractive',\n",
              "                                                     [key], {});\n",
              "          if (!dataTable) return;\n",
              "\n",
              "          const docLinkHtml = 'Like what you see? Visit the ' +\n",
              "            '<a target=\"_blank\" href=https://colab.research.google.com/notebooks/data_table.ipynb>data table notebook</a>'\n",
              "            + ' to learn more about interactive tables.';\n",
              "          element.innerHTML = '';\n",
              "          dataTable['output_type'] = 'display_data';\n",
              "          await google.colab.output.renderOutput(dataTable, element);\n",
              "          const docLink = document.createElement('div');\n",
              "          docLink.innerHTML = docLinkHtml;\n",
              "          element.appendChild(docLink);\n",
              "        }\n",
              "      </script>\n",
              "    </div>\n",
              "  </div>\n",
              "  "
            ]
          },
          "metadata": {},
          "execution_count": 141
        }
      ]
    },
    {
      "cell_type": "markdown",
      "source": [
        "membagi data train dan validasi dengan komposisi 80:20"
      ],
      "metadata": {
        "id": "I7uvAMDYNXKz"
      }
    },
    {
      "cell_type": "code",
      "source": [
        "x = df[['user', 'anime']].values\n",
        "\n",
        "y = df['rating'].apply(lambda x: (x - min_rating) / (max_rating - min_rating)).values\n",
        "\n",
        "train_indices = int(0.8 * df.shape[0])\n",
        "x_train, x_val, y_train, y_val = (\n",
        "    x[:train_indices],\n",
        "    x[train_indices:],\n",
        "    y[:train_indices],\n",
        "    y[train_indices:]\n",
        ")\n",
        " \n",
        "print(x, y)"
      ],
      "metadata": {
        "colab": {
          "base_uri": "https://localhost:8080/"
        },
        "id": "_uICoY6INSoI",
        "outputId": "021b9216-32a9-4aab-d639-6cd2340964e0"
      },
      "execution_count": 142,
      "outputs": [
        {
          "output_type": "stream",
          "name": "stdout",
          "text": [
            "[[ 233 2659]\n",
            " [ 167  458]\n",
            " [   3  143]\n",
            " ...\n",
            " [   4  677]\n",
            " [ 231 1339]\n",
            " [ 115  870]] [0.66666667 1.         0.66666667 ... 0.66666667 0.77777778 0.88888889]\n"
          ]
        }
      ]
    },
    {
      "cell_type": "markdown",
      "source": [
        "Fungsi Rekomendasi"
      ],
      "metadata": {
        "id": "AmEbSb-DNjdR"
      }
    },
    {
      "cell_type": "code",
      "source": [
        "class RecommenderNet(tf.keras.Model):\n",
        "\n",
        "  def __init__(self, num_users, num_anime, embedding_size, **kwargs):\n",
        "    super(RecommenderNet, self).__init__(**kwargs)\n",
        "    self.num_users = num_users\n",
        "    self.num_anime = num_anime\n",
        "    self.embedding_size = embedding_size\n",
        "    self.user_embedding = layers.Embedding(\n",
        "        num_users,\n",
        "        embedding_size,\n",
        "        embeddings_initializer = 'he_normal',\n",
        "        embeddings_regularizer = keras.regularizers.l2(1e-6)\n",
        "    )\n",
        "    self.user_bias = layers.Embedding(num_users, 1)\n",
        "    self.anime_embedding = layers.Embedding(\n",
        "        num_anime,\n",
        "        embedding_size,\n",
        "        embeddings_initializer = 'he_normal',\n",
        "        embeddings_regularizer = keras.regularizers.l2(1e-6)\n",
        "    )\n",
        "    self.anime_bias = layers.Embedding(num_anime, 1)\n",
        " \n",
        "  def call(self, inputs):\n",
        "    user_vector = self.user_embedding(inputs[:,0])\n",
        "    user_bias = self.user_bias(inputs[:, 0])\n",
        "    anime_vector = self.anime_embedding(inputs[:, 1])\n",
        "    anime_bias = self.anime_bias(inputs[:, 1])\n",
        " \n",
        "    dot_user_anime = tf.tensordot(user_vector, anime_vector, 2) \n",
        " \n",
        "    x = dot_user_anime + user_bias + anime_bias\n",
        "    \n",
        "    return tf.nn.sigmoid(x)"
      ],
      "metadata": {
        "id": "lymfu-yFNitq"
      },
      "execution_count": 143,
      "outputs": []
    },
    {
      "cell_type": "markdown",
      "source": [
        "Compile Model"
      ],
      "metadata": {
        "id": "hOtNjd7iN2Oc"
      }
    },
    {
      "cell_type": "code",
      "source": [
        "model = RecommenderNet(num_users, num_anime, 50)\n",
        " \n",
        "model.compile(\n",
        "    loss = tf.keras.losses.BinaryCrossentropy(),\n",
        "    optimizer = keras.optimizers.Adam(learning_rate=0.001),\n",
        "    metrics=[tf.keras.metrics.RootMeanSquaredError()]\n",
        ")"
      ],
      "metadata": {
        "id": "TzhDZj-DN4KO"
      },
      "execution_count": 144,
      "outputs": []
    },
    {
      "cell_type": "markdown",
      "source": [
        "Training Model"
      ],
      "metadata": {
        "id": "qYuppzE5N8Ym"
      }
    },
    {
      "cell_type": "code",
      "source": [
        "history = model.fit(\n",
        "    x = x_train,\n",
        "    y = y_train,\n",
        "    batch_size = 8,\n",
        "    epochs = 100,\n",
        "    validation_data = (x_val, y_val)\n",
        ")\n"
      ],
      "metadata": {
        "colab": {
          "base_uri": "https://localhost:8080/"
        },
        "id": "Jt9bXoTVN6sR",
        "outputId": "a40df21c-5857-4756-cf60-2a0524e54d8e"
      },
      "execution_count": 145,
      "outputs": [
        {
          "output_type": "stream",
          "name": "stdout",
          "text": [
            "Epoch 1/100\n",
            "1599/1599 [==============================] - 9s 5ms/step - loss: 0.6167 - root_mean_squared_error: 0.2583 - val_loss: 0.5384 - val_root_mean_squared_error: 0.1763\n",
            "Epoch 2/100\n",
            "1599/1599 [==============================] - 8s 5ms/step - loss: 0.5292 - root_mean_squared_error: 0.1653 - val_loss: 0.5339 - val_root_mean_squared_error: 0.1710\n",
            "Epoch 3/100\n",
            "1599/1599 [==============================] - 8s 5ms/step - loss: 0.5183 - root_mean_squared_error: 0.1527 - val_loss: 0.5253 - val_root_mean_squared_error: 0.1616\n",
            "Epoch 4/100\n",
            "1599/1599 [==============================] - 10s 6ms/step - loss: 0.5119 - root_mean_squared_error: 0.1452 - val_loss: 0.5231 - val_root_mean_squared_error: 0.1599\n",
            "Epoch 5/100\n",
            "1599/1599 [==============================] - 8s 5ms/step - loss: 0.5081 - root_mean_squared_error: 0.1408 - val_loss: 0.5176 - val_root_mean_squared_error: 0.1538\n",
            "Epoch 6/100\n",
            "1599/1599 [==============================] - 8s 5ms/step - loss: 0.5051 - root_mean_squared_error: 0.1371 - val_loss: 0.5178 - val_root_mean_squared_error: 0.1549\n",
            "Epoch 7/100\n",
            "1599/1599 [==============================] - 8s 5ms/step - loss: 0.5031 - root_mean_squared_error: 0.1349 - val_loss: 0.5159 - val_root_mean_squared_error: 0.1531\n",
            "Epoch 8/100\n",
            "1599/1599 [==============================] - 8s 5ms/step - loss: 0.5008 - root_mean_squared_error: 0.1318 - val_loss: 0.5135 - val_root_mean_squared_error: 0.1503\n",
            "Epoch 9/100\n",
            "1599/1599 [==============================] - 8s 5ms/step - loss: 0.4994 - root_mean_squared_error: 0.1301 - val_loss: 0.5148 - val_root_mean_squared_error: 0.1523\n",
            "Epoch 10/100\n",
            "1599/1599 [==============================] - 8s 5ms/step - loss: 0.4979 - root_mean_squared_error: 0.1281 - val_loss: 0.5135 - val_root_mean_squared_error: 0.1509\n",
            "Epoch 11/100\n",
            "1599/1599 [==============================] - 8s 5ms/step - loss: 0.4972 - root_mean_squared_error: 0.1272 - val_loss: 0.5142 - val_root_mean_squared_error: 0.1521\n",
            "Epoch 12/100\n",
            "1599/1599 [==============================] - 8s 5ms/step - loss: 0.4958 - root_mean_squared_error: 0.1253 - val_loss: 0.5124 - val_root_mean_squared_error: 0.1498\n",
            "Epoch 13/100\n",
            "1599/1599 [==============================] - 8s 5ms/step - loss: 0.4957 - root_mean_squared_error: 0.1252 - val_loss: 0.5120 - val_root_mean_squared_error: 0.1494\n",
            "Epoch 14/100\n",
            "1599/1599 [==============================] - 8s 5ms/step - loss: 0.4950 - root_mean_squared_error: 0.1244 - val_loss: 0.5129 - val_root_mean_squared_error: 0.1507\n",
            "Epoch 15/100\n",
            "1599/1599 [==============================] - 8s 5ms/step - loss: 0.4939 - root_mean_squared_error: 0.1227 - val_loss: 0.5130 - val_root_mean_squared_error: 0.1512\n",
            "Epoch 16/100\n",
            "1599/1599 [==============================] - 8s 5ms/step - loss: 0.4940 - root_mean_squared_error: 0.1228 - val_loss: 0.5121 - val_root_mean_squared_error: 0.1501\n",
            "Epoch 17/100\n",
            "1599/1599 [==============================] - 8s 5ms/step - loss: 0.4934 - root_mean_squared_error: 0.1219 - val_loss: 0.5113 - val_root_mean_squared_error: 0.1490\n",
            "Epoch 18/100\n",
            "1599/1599 [==============================] - 8s 5ms/step - loss: 0.4930 - root_mean_squared_error: 0.1213 - val_loss: 0.5135 - val_root_mean_squared_error: 0.1523\n",
            "Epoch 19/100\n",
            "1599/1599 [==============================] - 14s 9ms/step - loss: 0.4921 - root_mean_squared_error: 0.1202 - val_loss: 0.5132 - val_root_mean_squared_error: 0.1519\n",
            "Epoch 20/100\n",
            "1599/1599 [==============================] - 8s 5ms/step - loss: 0.4919 - root_mean_squared_error: 0.1199 - val_loss: 0.5121 - val_root_mean_squared_error: 0.1503\n",
            "Epoch 21/100\n",
            "1599/1599 [==============================] - 8s 5ms/step - loss: 0.4917 - root_mean_squared_error: 0.1196 - val_loss: 0.5133 - val_root_mean_squared_error: 0.1519\n",
            "Epoch 22/100\n",
            "1599/1599 [==============================] - 8s 5ms/step - loss: 0.4921 - root_mean_squared_error: 0.1202 - val_loss: 0.5110 - val_root_mean_squared_error: 0.1488\n",
            "Epoch 23/100\n",
            "1599/1599 [==============================] - 8s 5ms/step - loss: 0.4914 - root_mean_squared_error: 0.1192 - val_loss: 0.5118 - val_root_mean_squared_error: 0.1500\n",
            "Epoch 24/100\n",
            "1599/1599 [==============================] - 8s 5ms/step - loss: 0.4910 - root_mean_squared_error: 0.1185 - val_loss: 0.5112 - val_root_mean_squared_error: 0.1490\n",
            "Epoch 25/100\n",
            "1599/1599 [==============================] - 8s 5ms/step - loss: 0.4907 - root_mean_squared_error: 0.1179 - val_loss: 0.5121 - val_root_mean_squared_error: 0.1504\n",
            "Epoch 26/100\n",
            "1599/1599 [==============================] - 8s 5ms/step - loss: 0.4909 - root_mean_squared_error: 0.1187 - val_loss: 0.5135 - val_root_mean_squared_error: 0.1525\n",
            "Epoch 27/100\n",
            "1599/1599 [==============================] - 8s 5ms/step - loss: 0.4906 - root_mean_squared_error: 0.1178 - val_loss: 0.5138 - val_root_mean_squared_error: 0.1529\n",
            "Epoch 28/100\n",
            "1599/1599 [==============================] - 8s 5ms/step - loss: 0.4901 - root_mean_squared_error: 0.1171 - val_loss: 0.5135 - val_root_mean_squared_error: 0.1523\n",
            "Epoch 29/100\n",
            "1599/1599 [==============================] - 8s 5ms/step - loss: 0.4898 - root_mean_squared_error: 0.1167 - val_loss: 0.5143 - val_root_mean_squared_error: 0.1535\n",
            "Epoch 30/100\n",
            "1599/1599 [==============================] - 8s 5ms/step - loss: 0.4902 - root_mean_squared_error: 0.1172 - val_loss: 0.5135 - val_root_mean_squared_error: 0.1523\n",
            "Epoch 31/100\n",
            "1599/1599 [==============================] - 8s 5ms/step - loss: 0.4898 - root_mean_squared_error: 0.1169 - val_loss: 0.5137 - val_root_mean_squared_error: 0.1527\n",
            "Epoch 32/100\n",
            "1599/1599 [==============================] - 8s 5ms/step - loss: 0.4898 - root_mean_squared_error: 0.1165 - val_loss: 0.5130 - val_root_mean_squared_error: 0.1518\n",
            "Epoch 33/100\n",
            "1599/1599 [==============================] - 8s 5ms/step - loss: 0.4898 - root_mean_squared_error: 0.1170 - val_loss: 0.5137 - val_root_mean_squared_error: 0.1527\n",
            "Epoch 34/100\n",
            "1599/1599 [==============================] - 8s 5ms/step - loss: 0.4896 - root_mean_squared_error: 0.1165 - val_loss: 0.5140 - val_root_mean_squared_error: 0.1529\n",
            "Epoch 35/100\n",
            "1599/1599 [==============================] - 8s 5ms/step - loss: 0.4893 - root_mean_squared_error: 0.1159 - val_loss: 0.5138 - val_root_mean_squared_error: 0.1527\n",
            "Epoch 36/100\n",
            "1599/1599 [==============================] - 8s 5ms/step - loss: 0.4894 - root_mean_squared_error: 0.1163 - val_loss: 0.5132 - val_root_mean_squared_error: 0.1518\n",
            "Epoch 37/100\n",
            "1599/1599 [==============================] - 8s 5ms/step - loss: 0.4895 - root_mean_squared_error: 0.1162 - val_loss: 0.5130 - val_root_mean_squared_error: 0.1516\n",
            "Epoch 38/100\n",
            "1599/1599 [==============================] - 8s 5ms/step - loss: 0.4889 - root_mean_squared_error: 0.1155 - val_loss: 0.5130 - val_root_mean_squared_error: 0.1513\n",
            "Epoch 39/100\n",
            "1599/1599 [==============================] - 8s 5ms/step - loss: 0.4892 - root_mean_squared_error: 0.1159 - val_loss: 0.5132 - val_root_mean_squared_error: 0.1517\n",
            "Epoch 40/100\n",
            "1599/1599 [==============================] - 8s 5ms/step - loss: 0.4887 - root_mean_squared_error: 0.1152 - val_loss: 0.5135 - val_root_mean_squared_error: 0.1522\n",
            "Epoch 41/100\n",
            "1599/1599 [==============================] - 8s 5ms/step - loss: 0.4890 - root_mean_squared_error: 0.1155 - val_loss: 0.5125 - val_root_mean_squared_error: 0.1506\n",
            "Epoch 42/100\n",
            "1599/1599 [==============================] - 8s 5ms/step - loss: 0.4890 - root_mean_squared_error: 0.1155 - val_loss: 0.5138 - val_root_mean_squared_error: 0.1526\n",
            "Epoch 43/100\n",
            "1599/1599 [==============================] - 8s 5ms/step - loss: 0.4886 - root_mean_squared_error: 0.1149 - val_loss: 0.5136 - val_root_mean_squared_error: 0.1524\n",
            "Epoch 44/100\n",
            "1599/1599 [==============================] - 8s 5ms/step - loss: 0.4885 - root_mean_squared_error: 0.1149 - val_loss: 0.5139 - val_root_mean_squared_error: 0.1527\n",
            "Epoch 45/100\n",
            "1599/1599 [==============================] - 8s 5ms/step - loss: 0.4886 - root_mean_squared_error: 0.1151 - val_loss: 0.5128 - val_root_mean_squared_error: 0.1508\n",
            "Epoch 46/100\n",
            "1599/1599 [==============================] - 8s 5ms/step - loss: 0.4886 - root_mean_squared_error: 0.1150 - val_loss: 0.5137 - val_root_mean_squared_error: 0.1523\n",
            "Epoch 47/100\n",
            "1599/1599 [==============================] - 8s 5ms/step - loss: 0.4883 - root_mean_squared_error: 0.1144 - val_loss: 0.5136 - val_root_mean_squared_error: 0.1519\n",
            "Epoch 48/100\n",
            "1599/1599 [==============================] - 8s 5ms/step - loss: 0.4886 - root_mean_squared_error: 0.1150 - val_loss: 0.5133 - val_root_mean_squared_error: 0.1515\n",
            "Epoch 49/100\n",
            "1599/1599 [==============================] - 8s 5ms/step - loss: 0.4885 - root_mean_squared_error: 0.1150 - val_loss: 0.5137 - val_root_mean_squared_error: 0.1523\n",
            "Epoch 50/100\n",
            "1599/1599 [==============================] - 8s 5ms/step - loss: 0.4882 - root_mean_squared_error: 0.1146 - val_loss: 0.5143 - val_root_mean_squared_error: 0.1529\n",
            "Epoch 51/100\n",
            "1599/1599 [==============================] - 8s 5ms/step - loss: 0.4884 - root_mean_squared_error: 0.1147 - val_loss: 0.5142 - val_root_mean_squared_error: 0.1528\n",
            "Epoch 52/100\n",
            "1599/1599 [==============================] - 8s 5ms/step - loss: 0.4883 - root_mean_squared_error: 0.1145 - val_loss: 0.5135 - val_root_mean_squared_error: 0.1516\n",
            "Epoch 53/100\n",
            "1599/1599 [==============================] - 8s 5ms/step - loss: 0.4884 - root_mean_squared_error: 0.1148 - val_loss: 0.5138 - val_root_mean_squared_error: 0.1522\n",
            "Epoch 54/100\n",
            "1599/1599 [==============================] - 8s 5ms/step - loss: 0.4881 - root_mean_squared_error: 0.1145 - val_loss: 0.5136 - val_root_mean_squared_error: 0.1518\n",
            "Epoch 55/100\n",
            "1599/1599 [==============================] - 8s 5ms/step - loss: 0.4878 - root_mean_squared_error: 0.1139 - val_loss: 0.5141 - val_root_mean_squared_error: 0.1525\n",
            "Epoch 56/100\n",
            "1599/1599 [==============================] - 8s 5ms/step - loss: 0.4884 - root_mean_squared_error: 0.1152 - val_loss: 0.5134 - val_root_mean_squared_error: 0.1515\n",
            "Epoch 57/100\n",
            "1599/1599 [==============================] - 8s 5ms/step - loss: 0.4885 - root_mean_squared_error: 0.1153 - val_loss: 0.5131 - val_root_mean_squared_error: 0.1509\n",
            "Epoch 58/100\n",
            "1599/1599 [==============================] - 8s 5ms/step - loss: 0.4879 - root_mean_squared_error: 0.1142 - val_loss: 0.5137 - val_root_mean_squared_error: 0.1518\n",
            "Epoch 59/100\n",
            "1599/1599 [==============================] - 8s 5ms/step - loss: 0.4881 - root_mean_squared_error: 0.1145 - val_loss: 0.5135 - val_root_mean_squared_error: 0.1514\n",
            "Epoch 60/100\n",
            "1599/1599 [==============================] - 8s 5ms/step - loss: 0.4876 - root_mean_squared_error: 0.1136 - val_loss: 0.5133 - val_root_mean_squared_error: 0.1511\n",
            "Epoch 61/100\n",
            "1599/1599 [==============================] - 8s 5ms/step - loss: 0.4874 - root_mean_squared_error: 0.1135 - val_loss: 0.5140 - val_root_mean_squared_error: 0.1521\n",
            "Epoch 62/100\n",
            "1599/1599 [==============================] - 8s 5ms/step - loss: 0.4877 - root_mean_squared_error: 0.1140 - val_loss: 0.5139 - val_root_mean_squared_error: 0.1518\n",
            "Epoch 63/100\n",
            "1599/1599 [==============================] - 8s 5ms/step - loss: 0.4880 - root_mean_squared_error: 0.1143 - val_loss: 0.5136 - val_root_mean_squared_error: 0.1514\n",
            "Epoch 64/100\n",
            "1599/1599 [==============================] - 8s 5ms/step - loss: 0.4874 - root_mean_squared_error: 0.1134 - val_loss: 0.5135 - val_root_mean_squared_error: 0.1512\n",
            "Epoch 65/100\n",
            "1599/1599 [==============================] - 8s 5ms/step - loss: 0.4879 - root_mean_squared_error: 0.1143 - val_loss: 0.5136 - val_root_mean_squared_error: 0.1516\n",
            "Epoch 66/100\n",
            "1599/1599 [==============================] - 8s 5ms/step - loss: 0.4878 - root_mean_squared_error: 0.1140 - val_loss: 0.5140 - val_root_mean_squared_error: 0.1521\n",
            "Epoch 67/100\n",
            "1599/1599 [==============================] - 8s 5ms/step - loss: 0.4877 - root_mean_squared_error: 0.1139 - val_loss: 0.5132 - val_root_mean_squared_error: 0.1507\n",
            "Epoch 68/100\n",
            "1599/1599 [==============================] - 8s 5ms/step - loss: 0.4876 - root_mean_squared_error: 0.1139 - val_loss: 0.5131 - val_root_mean_squared_error: 0.1504\n",
            "Epoch 69/100\n",
            "1599/1599 [==============================] - 8s 5ms/step - loss: 0.4876 - root_mean_squared_error: 0.1138 - val_loss: 0.5135 - val_root_mean_squared_error: 0.1512\n",
            "Epoch 70/100\n",
            "1599/1599 [==============================] - 8s 5ms/step - loss: 0.4878 - root_mean_squared_error: 0.1142 - val_loss: 0.5135 - val_root_mean_squared_error: 0.1512\n",
            "Epoch 71/100\n",
            "1599/1599 [==============================] - 8s 5ms/step - loss: 0.4878 - root_mean_squared_error: 0.1141 - val_loss: 0.5139 - val_root_mean_squared_error: 0.1516\n",
            "Epoch 72/100\n",
            "1599/1599 [==============================] - 8s 5ms/step - loss: 0.4873 - root_mean_squared_error: 0.1135 - val_loss: 0.5138 - val_root_mean_squared_error: 0.1514\n",
            "Epoch 73/100\n",
            "1599/1599 [==============================] - 8s 5ms/step - loss: 0.4877 - root_mean_squared_error: 0.1141 - val_loss: 0.5141 - val_root_mean_squared_error: 0.1520\n",
            "Epoch 74/100\n",
            "1599/1599 [==============================] - 8s 5ms/step - loss: 0.4873 - root_mean_squared_error: 0.1134 - val_loss: 0.5144 - val_root_mean_squared_error: 0.1522\n",
            "Epoch 75/100\n",
            "1599/1599 [==============================] - 8s 5ms/step - loss: 0.4877 - root_mean_squared_error: 0.1139 - val_loss: 0.5145 - val_root_mean_squared_error: 0.1523\n",
            "Epoch 76/100\n",
            "1599/1599 [==============================] - 8s 5ms/step - loss: 0.4874 - root_mean_squared_error: 0.1135 - val_loss: 0.5141 - val_root_mean_squared_error: 0.1516\n",
            "Epoch 77/100\n",
            "1599/1599 [==============================] - 8s 5ms/step - loss: 0.4873 - root_mean_squared_error: 0.1133 - val_loss: 0.5141 - val_root_mean_squared_error: 0.1516\n",
            "Epoch 78/100\n",
            "1599/1599 [==============================] - 8s 5ms/step - loss: 0.4874 - root_mean_squared_error: 0.1138 - val_loss: 0.5139 - val_root_mean_squared_error: 0.1513\n",
            "Epoch 79/100\n",
            "1599/1599 [==============================] - 8s 5ms/step - loss: 0.4875 - root_mean_squared_error: 0.1137 - val_loss: 0.5139 - val_root_mean_squared_error: 0.1514\n",
            "Epoch 80/100\n",
            "1599/1599 [==============================] - 8s 5ms/step - loss: 0.4871 - root_mean_squared_error: 0.1131 - val_loss: 0.5139 - val_root_mean_squared_error: 0.1512\n",
            "Epoch 81/100\n",
            "1599/1599 [==============================] - 8s 5ms/step - loss: 0.4871 - root_mean_squared_error: 0.1130 - val_loss: 0.5141 - val_root_mean_squared_error: 0.1515\n",
            "Epoch 82/100\n",
            "1599/1599 [==============================] - 8s 5ms/step - loss: 0.4873 - root_mean_squared_error: 0.1135 - val_loss: 0.5143 - val_root_mean_squared_error: 0.1517\n",
            "Epoch 83/100\n",
            "1599/1599 [==============================] - 8s 5ms/step - loss: 0.4876 - root_mean_squared_error: 0.1139 - val_loss: 0.5142 - val_root_mean_squared_error: 0.1515\n",
            "Epoch 84/100\n",
            "1599/1599 [==============================] - 8s 5ms/step - loss: 0.4874 - root_mean_squared_error: 0.1135 - val_loss: 0.5143 - val_root_mean_squared_error: 0.1517\n",
            "Epoch 85/100\n",
            "1599/1599 [==============================] - 8s 5ms/step - loss: 0.4872 - root_mean_squared_error: 0.1131 - val_loss: 0.5146 - val_root_mean_squared_error: 0.1521\n",
            "Epoch 86/100\n",
            "1599/1599 [==============================] - 8s 5ms/step - loss: 0.4875 - root_mean_squared_error: 0.1139 - val_loss: 0.5146 - val_root_mean_squared_error: 0.1520\n",
            "Epoch 87/100\n",
            "1599/1599 [==============================] - 8s 5ms/step - loss: 0.4874 - root_mean_squared_error: 0.1136 - val_loss: 0.5142 - val_root_mean_squared_error: 0.1514\n",
            "Epoch 88/100\n",
            "1599/1599 [==============================] - 8s 5ms/step - loss: 0.4868 - root_mean_squared_error: 0.1128 - val_loss: 0.5143 - val_root_mean_squared_error: 0.1513\n",
            "Epoch 89/100\n",
            "1599/1599 [==============================] - 8s 5ms/step - loss: 0.4871 - root_mean_squared_error: 0.1133 - val_loss: 0.5148 - val_root_mean_squared_error: 0.1519\n",
            "Epoch 90/100\n",
            "1599/1599 [==============================] - 8s 5ms/step - loss: 0.4875 - root_mean_squared_error: 0.1137 - val_loss: 0.5145 - val_root_mean_squared_error: 0.1513\n",
            "Epoch 91/100\n",
            "1599/1599 [==============================] - 8s 5ms/step - loss: 0.4874 - root_mean_squared_error: 0.1136 - val_loss: 0.5146 - val_root_mean_squared_error: 0.1514\n",
            "Epoch 92/100\n",
            "1599/1599 [==============================] - 8s 5ms/step - loss: 0.4871 - root_mean_squared_error: 0.1132 - val_loss: 0.5149 - val_root_mean_squared_error: 0.1519\n",
            "Epoch 93/100\n",
            "1599/1599 [==============================] - 8s 5ms/step - loss: 0.4869 - root_mean_squared_error: 0.1129 - val_loss: 0.5145 - val_root_mean_squared_error: 0.1513\n",
            "Epoch 94/100\n",
            "1599/1599 [==============================] - 8s 5ms/step - loss: 0.4875 - root_mean_squared_error: 0.1136 - val_loss: 0.5146 - val_root_mean_squared_error: 0.1512\n",
            "Epoch 95/100\n",
            "1599/1599 [==============================] - 8s 5ms/step - loss: 0.4873 - root_mean_squared_error: 0.1138 - val_loss: 0.5150 - val_root_mean_squared_error: 0.1516\n",
            "Epoch 96/100\n",
            "1599/1599 [==============================] - 8s 5ms/step - loss: 0.4871 - root_mean_squared_error: 0.1132 - val_loss: 0.5151 - val_root_mean_squared_error: 0.1519\n",
            "Epoch 97/100\n",
            "1599/1599 [==============================] - 9s 5ms/step - loss: 0.4873 - root_mean_squared_error: 0.1137 - val_loss: 0.5153 - val_root_mean_squared_error: 0.1519\n",
            "Epoch 98/100\n",
            "1599/1599 [==============================] - 8s 5ms/step - loss: 0.4870 - root_mean_squared_error: 0.1131 - val_loss: 0.5145 - val_root_mean_squared_error: 0.1508\n",
            "Epoch 99/100\n",
            "1599/1599 [==============================] - 9s 5ms/step - loss: 0.4870 - root_mean_squared_error: 0.1133 - val_loss: 0.5149 - val_root_mean_squared_error: 0.1512\n",
            "Epoch 100/100\n",
            "1599/1599 [==============================] - 8s 5ms/step - loss: 0.4868 - root_mean_squared_error: 0.1129 - val_loss: 0.5152 - val_root_mean_squared_error: 0.1518\n"
          ]
        }
      ]
    },
    {
      "cell_type": "markdown",
      "source": [
        "Visualisasi Metrik"
      ],
      "metadata": {
        "id": "F-bEcex0OGjZ"
      }
    },
    {
      "cell_type": "code",
      "source": [
        "plt.plot(history.history['root_mean_squared_error'])\n",
        "plt.plot(history.history['val_root_mean_squared_error'])\n",
        "plt.title('model_metrics')\n",
        "plt.ylabel('root_mean_squared_error')\n",
        "plt.xlabel('epoch')\n",
        "plt.legend(['train', 'test'], loc='upper left')\n",
        "plt.show()"
      ],
      "metadata": {
        "colab": {
          "base_uri": "https://localhost:8080/",
          "height": 295
        },
        "id": "YZLkMj5QOGDT",
        "outputId": "69ba0550-1b6d-4869-91da-efb316081be5"
      },
      "execution_count": 146,
      "outputs": [
        {
          "output_type": "display_data",
          "data": {
            "text/plain": [
              "<Figure size 432x288 with 1 Axes>"
            ],
            "image/png": "[encoded data removed]"
          },
          "metadata": {
            "needs_background": "light"
          }
        }
      ]
    },
    {
      "cell_type": "markdown",
      "source": [
        "Mendapatkan Rekomendasi Resto"
      ],
      "metadata": {
        "id": "5PFzYwDsOL8f"
      }
    },
    {
      "cell_type": "code",
      "source": [
        "anime_df = df_anime\n",
        "df = df_rating\n",
        "\n",
        "userID = df.user_id.sample(1).iloc[0]\n",
        "anime_watched_by_user = df[df.user_id == userID]\n",
        " \n",
        "anime_not_watched = anime_df[~anime_df['anime_id'].isin(anime_watched_by_user.anime_id.values)]['anime_id'] \n",
        "anime_not_watched = list(\n",
        "    set(anime_not_watched)\n",
        "    .intersection(set(anime_to_anime_encoded.keys()))\n",
        ")\n",
        " \n",
        "anime_not_watched = [[anime_to_anime_encoded.get(x)] for x in anime_not_watched]\n",
        "user_encoder = user_to_user_encoded.get(userID)\n",
        "user_anime_array = np.hstack(\n",
        "    ([[user_encoder]] * len(anime_not_watched), anime_not_watched)\n",
        ")"
      ],
      "metadata": {
        "id": "eDoxuk54OKjy"
      },
      "execution_count": 147,
      "outputs": []
    },
    {
      "cell_type": "markdown",
      "source": [
        "memperoleh rekomendasi anime"
      ],
      "metadata": {
        "id": "p9kR-VoOObvX"
      }
    },
    {
      "cell_type": "code",
      "source": [
        "from tensorflow import keras\n",
        "\n",
        "ratings = model.predict(user_anime_array).flatten()\n",
        " \n",
        "top_ratings_indices = ratings.argsort()[-10:][::-1]\n",
        "recommended_anime_ids = [\n",
        "    anime_encoded_to_anime.get(anime_not_watched[x][0]) for x in top_ratings_indices\n",
        "]\n",
        " \n",
        "print('Showing recommendations for users: {}'.format(userID))\n",
        "print('===' * 9)\n",
        "print('Anime with high ratings from user')\n",
        "print('----' * 8)\n",
        " \n",
        "top_anime_user = (\n",
        "    anime_watched_by_user.sort_values(\n",
        "        by = 'rating',\n",
        "        ascending=False\n",
        "    )\n",
        "    .head(5)\n",
        "    .anime_id.values\n",
        ")\n",
        " \n",
        "anime_df_rows = anime_df[anime_df['anime_id'].isin(top_anime_user)]\n",
        "for row in anime_df_rows.itertuples():\n",
        "    print(row.name, ':', row.genre)\n",
        " \n",
        "print('----' * 8)\n",
        "print('Top 10 anime recommendation')\n",
        "print('----' * 8)\n",
        " \n",
        "recommended_anime = anime_df[anime_df['anime_id'].isin(recommended_anime_ids)]\n",
        "for row in recommended_anime.itertuples():\n",
        "    print(row.name, ':', row.genre)"
      ],
      "metadata": {
        "colab": {
          "base_uri": "https://localhost:8080/"
        },
        "id": "3qhGukaeOVIv",
        "outputId": "6921018b-29d5-4ea4-bdeb-f1e3ee94f826"
      },
      "execution_count": 148,
      "outputs": [
        {
          "output_type": "stream",
          "name": "stdout",
          "text": [
            "Showing recommendations for users: 104\n",
            "===========================\n",
            "Anime with high ratings from user\n",
            "--------------------------------\n",
            "Code Geass: Hangyaku no Lelouch R2 : Action, Drama, Mecha, Military, Sci-Fi, Super Power\n",
            "Phantom: Requiem for the Phantom : Action, Drama, Seinen, Thriller\n",
            "High School DxD New : Action, Comedy, Demons, Ecchi, Harem, Romance, School\n",
            "Elfen Lied : Action, Drama, Horror, Psychological, Romance, Seinen, Supernatural\n",
            "Campione!: Matsurowanu Kamigami to Kamigoroshi no Maou : Comedy, Ecchi, Fantasy, Harem, Magic, Romance\n",
            "--------------------------------\n",
            "Top 10 anime recommendation\n",
            "--------------------------------\n",
            "Gintama Movie: Kanketsu-hen - Yorozuya yo Eien Nare : Action, Comedy, Historical, Parody, Samurai, Sci-Fi, Shounen\n",
            "Cross Game : Comedy, Drama, Romance, School, Sports\n",
            "SKET Dance : Comedy, School, Shounen\n",
            "Kimi to Boku. 2 : Comedy, Drama, Romance, School, Shounen, Slice of Life\n",
            "Katekyo Hitman Reborn! Special : Comedy, Shounen\n",
            "Pokemon Black and White 2: Introduction Movie : Action, Fantasy, Kids\n",
            "Saki : Game, School, Slice of Life\n",
            "The iDOLM@STER Cinderella Girls 2nd Season : Comedy, Drama, Music\n",
            "One Piece: Nenmatsu Tokubetsu Kikaku! Mugiwara no Luffy Oyabun Torimonochou : Adventure, Comedy, Fantasy, Shounen\n",
            "Kyou no Asuka Show : Comedy, Ecchi, Seinen\n"
          ]
        }
      ]
    }
  ]
}